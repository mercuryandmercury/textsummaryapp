{
 "cells": [
  {
   "cell_type": "code",
   "execution_count": 118,
   "id": "9279cdec",
   "metadata": {},
   "outputs": [],
   "source": [
    "import numpy as np\n",
    "import pandas as pd \n",
    "from nltk.corpus import stopwords\n",
    "import string\n",
    "import re\n",
    "from bs4 import BeautifulSoup\n",
    "from sumy.parsers.plaintext import PlaintextParser\n",
    "from sumy.summarizers.lex_rank import LexRankSummarizer\n",
    "from sumy.nlp.stemmers import Stemmer\n",
    "from sumy.utils import get_stop_words\n",
    "from sumy.summarizers.lsa import LsaSummarizer\n",
    "from sumy.summarizers.luhn import LuhnSummarizer\n",
    "from sumy.summarizers.text_rank import TextRankSummarizer\n",
    "from sumy.nlp.tokenizers import Tokenizer\n",
    "import networkx as nx\n",
    "import jaro"
   ]
  },
  {
   "cell_type": "code",
   "execution_count": 119,
   "id": "4db618c4",
   "metadata": {},
   "outputs": [],
   "source": [
    "research = open('C:/Users/nisha/Desktop/Development content.txt','r')\n",
    "rs_content = research.read()"
   ]
  },
  {
   "cell_type": "code",
   "execution_count": 120,
   "id": "bbb10049",
   "metadata": {},
   "outputs": [
    {
     "data": {
      "text/plain": [
       "'DESIGNING new single-crystal Ni-base superalloy\\nis a challenge due to competitive requirements on the\\nmaterial properties and the complexity of the material\\ncomposition with eight or more alloying elements.\\nAdditionally, modifying a single element concentration\\nusually influences more than one alloy property and the\\nidentification of individual effects is difficult. State-ofthe-art alloy development comprises targeted adaption\\nof existing alloy compositions for experimental testing.\\nConsequently, alloy compositions of potentially improved material properties within the huge designspace spanned by all alloying elements are widely\\nunexplored until today.\\nModern alloy development combines numerical optimization methods with experimental validation to guide\\nthe development towards promising compositions.\\nInstead of a single alloy composition which satisfies all\\nmultiple optimization criteria in a multi-component\\ndesign-space, there exist a number of alloy compositions\\nrepresenting the Pareto front. All compositions on the\\nPareto front are optimal in the sense that it is not\\npossible to improve one criterion without worsening\\nanother. Numerical approaches now try to determine all\\npossible Pareto front compositions in the design-space\\nfor certain multiple optimization criteria. The general\\nansatz is to collect as many experimental data on alloy\\nsystems as available and develop interpolation and\\nextrapolation models for unknown compositions.\\nThe CALPHAD method (CALculation of PHAse\\nDiagrams, today Computer Coupling of Phase Diagrams and Thermochemistry)[1] allows the prediction of\\nmany physical properties of complex multi-component\\nalloys, e.g., phase fractions, phase compositions, or\\nprecipitate driving forces at any temperature by using\\nGibbs free energy databases. Until today, the improvement of the underlying databases is ongoing,\\nespecially in the field of superalloys.[2â€“4]\\nSeveral studies applying various approaches have\\nbeen published in the field of superalloys. One example\\nis a combinatorial brute-force algorithm for scanning\\nlarge design-spaces using model characteristics like creep\\nresistance, microstructural stability, castability, density,\\nand cost.[5]\\nLass applied computational thermodynamics\\nto design a Co-Ni-base superalloy out of six elements\\navoiding the formation of secondary phases.[6] A mesh\\nadaptive search algorithm in combination with a\\nCALPHAD software is used to determine several design\\nobjectives, the optimum alloy compositions, and processing conditions. A further improvement for the\\noptimization of processing conditions, is the integration\\nof the cÂ¢-precipitation kinetics[7] considering higher\\ncomputational effort for the phase evolution prediction.\\nAnother approach is the combination of CALPHAD\\ncomputations together with artificial neural networks,[8]\\nwhereby this approach is only valid within a small\\nparameter variation to well-known alloy compositions.\\nGlobal optimization techniques together with large\\nexperimental databases are applied for designing alloys\\nwith optimum composition.[9â€“11] Promising results are\\nachieved by coupling genetic search algorithms with\\nCALPHAD computations.[9,12,13] Li et al. proposed a\\ncomputational framework combining genetic algorithms, CALPHAD computations, and mechanistic\\nmaterial models to optimize the alloy composition\\nwithin the ternary system Ni-Al-Cr.[14] However, the\\ncoupling of a genetic algorithm to additional, computationally expensive models, prevent the optimization\\nwithin a large n-dimensional design-space. Therefore,\\nsimplified surrogate models need to be defined,[15]\\nwhich\\nare easy to couple into a multi-criteria optimization\\nproblem.\\nIn this work, the numerical multi-criteria optimization tool MultOpt++ using a genetic search algorithm,\\nCALPHAD calculations, and semi-empirical as well as\\nsurrogate models for alloy development is presented. Its\\nsuccessful application for the development of rhenium-free single-crystal Ni-base superalloys ERBO/\\n13[16,17] and ERBO/15[18,19] is revisited. One important\\ngoal during the optimization process is the replacement\\nof rhenium by other refractory elements like tungsten\\nand molybdenum. The higher amount of refractory\\nelements may cause phase instability and the evolution\\nof detrimental, brittle topologically close-packed (TCP)\\nphases.[20â€“22]\\nSince the described optimization procedure\\ndoes not apply for phase stability of Ni-base superalloys, we present a possible route to develop a surrogate\\nmodel for integration into the optimization procedure.The numerical approach in our simulation-assisted\\nalloy development is based on a multi-criteria, multi-start optimization model using sequential quadratic\\nprogramming described earlier.[16] The semi-empirical\\nequation model for the room-temperature density as\\nwell as the model for the temperature-depended misfit by Caron et al.,[23] and the model for solid solution\\nstrengthening index ISSS by Fleischmann et al.\\n[24] are\\napplied. Thermodynamic equilibrium material properties are provided by the CALPHAD method. These\\ncomputations are only applied to a subset of possible\\ncompositions and the results are approximated by a\\nKriging surrogate model.[15,25]\\nAll alloying elements with their concentration range\\nset up the design-space. The probability to find the\\nglobal optimal composition is increased by choosing\\nvarious starting points across the whole design-space.\\nWithin this space, optimum alloy compositions for\\ncertain optimization criteria are searched applying the\\nsurrogate and semi-empirical models. The accuracy of\\nthe surrogate models is improved by refining the\\napproximation with the current set of optimal compositions before each restart.The first implementation of the optimization tool\\n(termed MultOpt, Matlab-based[16]\\n) uses a single-criterion optimization function, i.e., only one goal can be\\noptimized at a time. However, the optimization of\\nNi-base superalloys demands multiple optimization\\ngoals, e.g., maximizing the solid solution strengthening\\nindex and minimizing the density. Accordingly, in this\\nmulti-criteria optimization, the solid solution strengthening index is optimized while sampling the density and\\nholding constant during optimization. A final alloy\\ncomposition is found by further post-processing the\\nPareto front, i.e., choosing the ideal composition to\\nsatisfy additional criteria. This program flow leads to a\\nmulti-start, multi-criteria optimization with limited\\ncomputational effort. However, the method works less\\nwell, if more than two criteria are optimized, because\\neach additional criterion increases the number of\\ndimensions of the sampling domain. In addition, the\\nPareto front contains maximally as many compositions\\nas the number of sampling points for the density.\\nTherefore, an improved optimization routine which\\nallows single-start, simultaneous multi-criteria optimization without limitations on the number of optimization\\ncriteria is presented in the present paper.The new plugin-based structure of the optimization\\ntool MultOpt++ (C++-based) replaces every part of\\nthe previous alloy-by-design computational routine and\\nis easily extendable by new features. All property\\nmodels, surrogate modeling methods, execution modes,\\nstarting point selection algorithms, optimization library\\nkernels, and other components are represented by a\\ncertain plugin. This allows to combine, for example,\\nmodels based on different thermodynamic databases or\\neven different CALPHAD applications. It is also possible to apply different optimization algorithms to\\nimprove calculation effort or result accuracy.\\nA simplified schematic representation of the multi-criteria optimization tool for finding the Pareto front\\nis shown in Figure 1.It mainly consists of four steps: The selection of\\nappropriate starting points in the design-space, the\\npre-processing of all surrogate property models, the\\nexecution of the optimization engine, and the post-processing of the Pareto front if necessary.The alloy designer has the possibility to manually\\nselect starting points if available or use the latin\\nhypercube sampling for an optimal selection of starting\\npoints. The improved latin hypercube sampling[26]\\nprovides a better distribution of starting points within\\nn-dimensional design-spaces requiring higher computational effort.If surrogate property models are applied, they need to\\nbe initialized before the first run and improved in each\\niteration of the optimization routine. The starting points\\nare used for the determination of the initial surrogate\\nmodels, i.e., the property function is evaluated for all\\nstarting points and the interpolation is applied by the\\nKriging algorithm. In further iterations, the surrogate\\nmodel is improved by minimizing the maximal predicted\\nmodel error provided by the Kriging algorithm or the\\nmaximal expected improvement factor as proposed by\\nJones et al.\\n[27] The Kriging approximation model is\\ndynamically linked into MultOpt++ as external C-compiled Matlab DACE-toolbox library.[28]The insights of the MultOpt++ optimization engine\\nare illustrated in Figure 1 (right). As demonstrated by\\nmany researches in a wide range of approaches,evolutionary algorithms are effective for solving multi-objective optimization problems.[29â€“32] Therefore, the\\nfirst optimization step is performed by an evolutionary algorithm provided by the powerful optimization library\\nGeneva â€˜â€˜Ivrea - Via Arduinoâ€™â€™ 1.6.1*. Since evolutionary algorithms typically need many iterations, the last\\noptimization is optionally performed by a deterministic\\nsearch algorithm. This step requires the transformation\\nof multi-criteria to a single-criterion optimization problem, in a similar way as in MultOpt. The Geneva library\\nprovides further probabilistic algorithms as simulated\\nannealing, swarm intelligence, and deterministic algorithms like the gradient descents algorithm. The last one\\nis applied to improve the Pareto front in the last\\noptimization step. Optionally, this step can be combined\\nwith one of the other probabilistic search algorithms to\\nbenefit from the multi-point start with already Pareto\\noptimal and not random-selected individuals which\\nresults in fewer steps with higher computational effort.\\nIn the case of optimization with direct usage of objective\\nfunctions without surrogate models, the Pareto front is\\nthe direct result and post-processing as well as multiple\\noptimization runs are skipped.If surrogate models were applied during the optimization run, a post-processing of the Pareto front is\\nnecessary. The properties of the predicted optimal\\ncompositions have to be recalculated by the direct\\ncalculation of the objective functions. For surrogate optimization goals, the Pareto selection and for surrogate constraint properties, the feasibility check has to be\\nrepeated, respectively. During post-processing, the current Pareto front may worsen and has to be merged with\\nthe Pareto front from the previous optimization run.\\nThe final optimal points are starting points for the next\\noptimization run also resulting in an improvement of\\nsurrogate models within relevant concentration space. If\\nthe Pareto front converges, i.e., the optimal values of\\neach single Pareto point cannot be improved within n\\nconsecutive optimization runs, the optimization is finished. The number of iterations n is adjustable with a\\ndefault value of 20.The numerical optimization tool MultOpt was\\nalready successfully applied in previous studies.[16,18]\\nStarting point was CMSX-4 which is a second-generation single-crystal Ni-base superalloy[33] that is successfully applied in, e.g., aircraft turbines.[34,35] By the\\naddition of 3 wt pct rhenium, a high-temperature creep\\nlifetime is reached due to an extremely low diffusion\\ncoefficient. However, the resulting disadvantage is the\\nimpossibility of a complete solutionizing and elimination of segregation. More importantly, rhenium is a rare\\nmaterial which is very expensive and prone to speculative manipulation. Therefore, we tried to develop a\\nrhenium-free Ni-base superalloy with similar creep\\nproperties as CMSX-4. The numerical results of\\nprevious studies[16,18] are revisited with the modified\\ntool MultOpt++ and presented here.\\nThe basic idea in our previous alloy development\\neffort was as follows. Rhenium as a solid solution\\nstrengthener can be replaced by other refractory elements like tungsten and molybdenum. Refractory elements, however, are heavy, i.e., they increase the density. Tungsten and molybdenum are not as effective\\nas rhenium and one needs higher amounts to account\\nfor this, i.e., the density will increase even more. We\\nnoticed that certain â€˜â€˜control elementsâ€™â€™ like titanium\\nand tantalum can be used to change the c/c0 partitioning\\nbehavior.[36â€“39] This means by addition of the control\\nelements, the solid solution strengtheners can be pushed\\nfrom the c0\\n-precipitates, where they are less efficient, into\\nthe matrix, where they are wanted. With this strategy,\\nalloys with the minimum amount of refractory metals\\nare obtained.In a first development campaign,[16] we varied mostly\\ntungsten and tantalum and obtained alloy ERBO/13[17]\\nas a result. In our development, we tried to keep\\nc0\\n-volume fraction and lattice misfit at 1100 \\x04C as close\\nto CMSX-4 as possible. We focused on the partitioning\\nbehavior of tungsten during the optimization. In\\nCMSX-4, tungsten is only slightly enriched in the\\nmatrix phase. Therefore, we aimed on an increasing\\namount to compensate the rhenium effect on creep\\nresistivity. The density, solid solution strengthening\\nindex, and lattice misfit of the optimum composition\\nERBO/13 and the reference CMSX-4 are shown in\\nFigure 2. Calculations are performed using\\nMultOpt++. The second isoline at  0.2 pct lattice\\nmisfit shows the Pareto front for the optimization\\nconstraints. The solid solution strengthening index of\\nERBO/13 (6.6 at. pct) is found at 8950 kg/m3. This\\ndemonstrates that the current set of strong restrictions\\nprevents achieving the desired index of 7.7 at. pct for\\nCMSX-4, because densities above 9000 kg/m3 are not\\ndesired. In a second, more successful campaign,[18] we varied\\nmolybdenum and titanium and obtained ERBO/15.[19]\\nFor ERBO/15, the lattice misfit constraint was somewhat relaxed. Since the main disadvantage of ERBO/13\\nis the very high density, the strong constraints on the\\nlattice misfit and the c0\\n-phase fraction are opened to the\\nranges of  0.5 to  0.1 pct and 43 to 47 mol pct,respectively. The optimization goals are a minimum\\ndensity, similar creep resistivity to CMSX-4, and a\\nrhenium-free alloy composition. The resulting color\\ncode of the lattice misfit and the optimal composition\\nERBO/15 are also shown in Figure 2. The highest solid\\nsolution strengthening index can be found for the\\nminimum lattice misfit of  0.5 pct. By choosing the\\nindex of CMSX-4, the optimal composition ERBO/15\\nwith a minimum density of 8300 kg/m3 is found.In order to verify our predictions, ERBO/13 as well as\\nERBO/15 were prepared in the form of small buttons by\\narc melting and subsequently analyzed regarding physical properties and creep performance.[16,18] Despite\\nweaknesses in the thermodynamic databases, the multi-criteria optimized alloy compositions agree well with\\nmost design constraints. This holds true for semi-empirical models (e.g., density or price) as well as thermodynamic properties (e.g., c0\\n-phase fraction or lattice\\nmisfit). Exemplary, the largest mismatch is found for the\\nsolid solution strengthening index of ERBO/13, where\\nthe experimental determined value is roughly 8 pct lower\\nthan the numerical prediction.Due to a reduced solid solution strengthening index\\nfor ERBO/13, its creep resistance is slightly lower than\\nfor CMSX-4. Although ERBO/15 also contains no\\nrhenium, the creep strength is comparable to that of\\nCMSX-4 at low stresses.[18]\\nTherefore, its specific creep\\nstrength is even higher due to a significantly reduced\\ndensity. However, in the high-stress, low-temperature\\nregime CMSX-4 seems superior to both ERBO compositions, which indicates a lower relevance of the solid\\nsolution strengthening in contrast to c0\\n-strengthening.\\nAs an approximation regarding TCP-susceptibility, we\\nused equilibrium calculation with Thermo-Calc engine\\nand database TTNI8 for both alloys.[40] The phase\\namounts and solvus temperatures of the overall TCP\\ncontent were compared to CMSX-4 for both alloys.\\nERBO/13 shows the lowest solvus temperature and\\nTCP-phase amount among these three alloys. ERBO/\\n15, however, shows also a much lower solvus temperature\\nbut a higher TCP-phase content at 950 \\x04C and below.The optimization tool MultOpt++ was successfully\\napplied to revisit the alloy development of ERBO/13\\nand ERBO/15 (see Section III). The improved execution\\nand software structure simplified the optimization procedure, since multiple criteria can be optimized at once.\\nThe necessity of dividing additional optimization goals\\ninto several single-criteria optimization steps is omitted.\\nAdditionally, the plugin-based structure allows easily\\nadopting the routine to new optimization problems and\\nnovel property models as well as optimization algorithms. The result of the calculation, i.e., the suggested\\noptimal composition to be tried out in experiment, could\\nbe recomputed with minimal variations, e.g., in the\\ncobalt and tungsten contents for ERBO/15 (see\\nFigure 2). Further development of the MultOpt++ tool will focus on important aspects regarding superalloys that are currently neglected (processability or phase\\nstability) or only indirectly accounted for (creep resistance) by the optimization tool. Therefore, we focus\\nwithin this section on an approach to introduce a\\nsurrogate model for phase stability.\\nSince decades, it is a challenging task to predict the\\nphase instability of Ni-base superalloys causing the\\nformation of TCP-phases. This is due to the fact that the\\nTCP-phase precipitation is a complex time-temperature-depending process of nucleation and growth and\\nduring this process different TCP-phases as well as\\nprecipitation sequences appear.[21,41,42]\\nThe development\\nof phase prediction started with Phase Computation\\n(PHACOMP), based on the electron configuration of\\nthe alloying elements.[43]\\nAn improvement to this model\\nis new PHACOMP,[44] which is applied in combination\\nwith CALPHAD computations until today.[5]\\nBecause it\\nsuffers from poor and sometimes incorrect predictions, a\\n2D structure map representation of TCP-phase occurrences is suggested.[45] In addition to the influence of\\nelectronic effects,[46]\\na composition-dependent size factor\\nis introduced to span up the 2D map. These maps are\\napplicable to experimentally observed TCP-phase precipitates in superalloys[47,48] and well suited to validate\\nTCP-phase predictions by combined CALPHAD and\\nphase-field simulations.\\nNumerical TCP-phase predictions require reliable\\nmaterial databases, a careful simulation setup utilizing\\nthermodynamic computations applying these databases\\nand a final validation, e.g., by structure maps. In the\\nfollowing sections, we describe a crossdisciplinary\\napproach for material database improvements followed\\nby a TCP-phase prediction simulation chain. Finally, we\\npresent an idea how to introduce a surrogate model for\\nthe TCP-phase prediction applicable in the numerical\\noptimization procedure.More knowledge on TCP-phase formation in binary\\nand ternary systems is necessary to extrapolate correctly\\nto higher order systems. Current research connects\\ncombinatorial thin-film experimentation and bulk\\nexperimentation with ab-initio simulations to predict\\nTCP-phases in ternary systems.[4] These results are used\\nto improve existing material databases and thereby\\nimprove the predictions on the full alloy composition.\\nIn the following, the concept of Crossdisciplinary\\nMaterial Database Improvement (CMDI) is explained\\nby a general workflow schematic in Figure 3. Starting\\npoint is an external input from existing databases or\\ncalculations (dotted arrows). This input can for\\ninstance be an interesting, yet unknown or not wellknown ternary system or composition range in which\\nTCP-phases are expected. Based on this initial input, a\\nthin-film material library of the interesting composition\\nrage will be fabricated on a 100mm diameter substrate\\nby magnetron sputtering using a wedge-type multi-layer approach.[49,50]\\nThe material library is annealed\\nand analyzed by energy dispersive X-ray spectroscopy (EDX), electric resistance measurements, and X-ray\\ndiffraction (XRD). The results of the combinatorial\\nthin-film experimentation are direct inputs for the bulk\\nexperimentation and arising questions are addressed by\\nab-initio density-functional theory (DFT) calculations.\\nCompositions found to be of interest in the material\\nlibrary are systematized in bulk by arc melting[51,52]\\nand\\nanalyzed by scanning electron microscope (SEM),\\nEDX, transmission electron microscope (TEM), and\\nnanoindentation as well. Structural stability and formation energy for the phases found in the material\\nlibrary are analyzed by DFT calculations.[53] DFT\\ncalculations and bulk experimentation also exchange\\ntheir results for further refinement. The combination of\\nall three disciplines (combining combinatorial thin-film\\nexperimentation, bulk experimentation, and DFT calculations) enables a better understanding of each of the\\nresults on its own but also contribute as experimental/calculated data input to the material database. The\\nupdated material database can be used to predict phase\\ndiagrams by CALPHAD.[54] The CALPHAD results\\nare crosschecked with the existing experimental data in\\nthe library enabling a feedback loop to further refine\\nthe CALPHAD predictions (dashed arrows). Figure 4\\nshows a summary of results from a recent study on the\\nCo-Ti-W system that applied the concept of CMDI.[4]\\nIn Figure 4(a), an isothermal section of a ternary phase\\ndiagram for the Co-Ti-W system predicted by CALPHAD based on the existing database TCNi8 is shown.\\nSince experimental results as well as DFT calculations\\nindicate the presence of titanium in the l-phase, a\\nsolubility of titanium is modeled by a preliminary\\nmodification of the thermodynamic database.\\nFigure 4(b) represents an isothermal section of a\\nternary phase diagram for the Co-Ti-W system predicted by CALPHAD based on the improved TCNi8\\ndatabase. Due to the stabilizing effect of titanium that\\nwas taken into account in the second simulation, the\\nsingle-phase region of the l-phase was enlarged into the\\nternary (up to approx. 8 at. pct titanium) also the\\nexistence range of the l-phase in the ternary Co-Ti-W\\nsystem was enlarged. By this, also the expected volume\\nfraction of the l-phase in the multi-phase regions\\nincreased. These results demonstrate the suitability of\\nthe CMDI approach to advantageously modify material databases.Second and higher generation Ni-base superalloys are\\nhighly alloyed with refractory elements like tungsten,\\nmolybdenum, rhenium, and ruthenium, respectively, to\\nobtain excellent solid solution strengthening and creep\\nproperties.[16,18,37,55,56] They solidify in a dendritic\\nmicrostructure causing microsegregation of alloying\\nelements, low melting eutectic phases, and unfavorably\\nshaped c0\\n-precipitates.[57â€“59] An initial solution heat\\ntreatment is normally applied to remove microsegregations and eutectic phases and to dissolve the c0\\n-precipitates followed by further heat treatment steps to ensure\\nwell-defined cubic c0\\n-precipitates.[60,61] A full homogenization heat treatment of these elements in reasonable\\ntimes is prevented due to a low diffusivity in combination with a preferred segregation into the dendrite cores\\nduring solidification.[60,62,63] The remaining segregation\\nof refractory elements in the dendrite cores after heat\\ntreatment causes the formation of intermetallic phases\\n(TCP) under service conditions.[64] In Ni-base superalloys, several brittle TCP-phases like r-, l-, P-, and\\nR-phases were found,[20â€“22] which additionally deplete\\nthe solid solution strengtheners from the c-matrix.[65]\\nExperimental investigations showed that nucleation\\noccurs mainly on grain boundaries or on a previously\\nformed metastable r-phase within the c-region.[42,65]\\nThe\\nmorphologies are various, e.g., plate-like, lath-type, or\\nglobular[22,66] with a preferred directional growth and\\ncoherency with {111}c or {100}c planes.[20â€“22] The\\nembrittlement under load due to TCP-phases in combination with a surrounding matrix of depleted alloying\\nelements results in degraded mechanical as well as\\nchemical properties.[37,42]\\nIn order to minimize TCP-phase formation in newly\\ndeveloped Ni-base superalloys, the numerical optimization tool needs to be extended by a TCP-phase prediction model. Since the evolution of TCP-phases is\\ninfluenced by manufacturing and service conditions, a\\ncomprehensive numerical simulation is necessary, which\\nis illustrated in Figure 5. The casting parameters are\\nused to predict the primary dendritic arm spacing\\n(PDAS). All further simulation steps make use of\\nthermodynamic material databases according to the\\nsuperalloy base material. Here, the improved material\\ndatabases by the CMDI approach described in Section IVâ€“A are necessary to ensure a more reliable prediction of the whole simulation chain. The solidification simulation is a phase-field simulation which is\\ninitialized with the primary dendrite arm spacing and\\nthe alloy composition.[67] The result is a segregation\\nprofile which is the input for an optimization tool to\\npredict the best heat treatment parameters to maximize\\nhomogeneity.[68] The resuming segregation profile after\\nheat treatment is finally applied for phase-field simulations to predict microstructural evolution of c/c0 considering the influence of multi-component diffusion on\\nnucleation and growth of TCP-phases. Once the whole\\nsimulation chain is established and validated, it is possible to extract information regarding designing,\\nprocessing, and material properties of the studied alloy\\ncomposition. Here, we only focus on the last result of\\nthe TCP-phase evolution, which is finally converted into\\na surrogate model for the application in the optimization tool MultOpt++. The casting parameters are determined by our new\\ninvestment casting process named Fluidized Carbon Bed\\nCooling (FCBC).[69] Compared to the well-known\\nliquid-metal cooling (LMC) process,[70â€“72]\\nFCBC applies an inert gas fluidized bed of glassy carbon beads instead\\nof a bath of molten tin to carry a buoyant layer of freely\\nmovable insulation particles.[73] The so-called Dynamic\\nBaffle[74] properly separates the heating and solidification zones as it perfectly adapts the contour of the\\nsolidifying component at any time during withdrawal.\\nThe low-density Dynamic Baffle material is, similar to\\nthe bed material, based on carbon. The Dynamic Baffle\\nis crucial to improve the temperature gradient in\\ninvestment casting. Dynamic Baffle, carbonâ€™s superalloy\\nmaterial compatibility and innovative process control\\nover previous fluidized bed attempts are key features in\\nthe robust FCBC approach.[69]\\nBecause the FCBC process achieves higher temperature gradients, increased withdrawal rates in comparison\\nto conventional investment casting devices are possible.\\nThe resulting PDAS is predicted by the empirical model\\nk Â¼ K  G0:5  v0:25;\\n[75] where K is a constant (1444\\nfor Ni-base superalloys[76]\\n), G is the temperature gradient, and v is the solidification velocity. In the case of\\ndirectional solidification casting, the solidification velocity is approximated by the withdrawal rate. The temperature gradient G for a certain FCBC process setup\\ncan either be determined by numerical simulation[77] or\\nby one sample experiment including the measurement of\\nthe PDAS.[69] The lowest PDAS around 300 lm for a\\nsingle-crystal microstructure is achieved for a withdrawal rate of 5.0mm/min. This reduction to the\\nindustrial state of the art (larger 400 lm for the\\ngeometry studied) significantly reduces element segregation and heat treatment durations.The objective of the next step in the simulation chain\\nis to understand the formation of the as-cast microstructure which represents a starting point for subsequent\\nheat treatment simulations. The numerical approach\\nrelies solely on the input of the casting parameters, the\\nnominal alloy composition, and the estimated PDAS.\\nThe final output are concentration maps of all alloying\\nelements.\\nAs modeling approach, the multi-component multi-phase-field model[80,81] is applied. The free energy\\nformulation of the system serves as basis considering\\ncontributions of the interfacial, chemical, and elastic\\nenergy. Following several mathematical operations[82]\\nand the use of the double-obstacle potential, the\\nphase-field equation can be formulated in antisymmetric\\napproximation where Mab represents the interface mobility, rab the\\ninterface energy, g the interface width, and Dgab the\\nGibbs free energy difference between the phases a and b.\\nBasically, /a is an indicator function used for tracking\\nthe moving interface during the process of solidification with values between 0 (solid bulk) and 1 (liquid melt).\\nThe contribution of the Gibbs free energy is evaluated\\nby coupling to the software package Thermo-Calc. As a\\nresult, an optimal thermodynamic description of the\\nsolute partitioning in the system during the solidification\\nprocess is ensured. Diffusion is solved with respect to all\\nelements of the alloy composition. The amount of\\nphases is limited to liquid, c and primary c0\\n.\\nThe presented numerical approach for solidification\\nduring casting is validated by experimental results of\\ndirectionally solidified CMSX-4 applying the vertical\\nBridgman process.[83] As software tool, the commercial\\nsoftware MICRESS in combination with the databases\\nTCNI8 and MOBNI4 is used. The thermal gradient is\\ntaken from previous work,[83] where this value has been\\ndetermined by a combined numerical and experimental\\napproach. In the model, the same withdrawal rates are\\nconsidered as in the case of solidification experiments.\\nThe PDAS is taken as input for the simulations.\\nIn Figure 6, the concentration distributions for\\nrhenium and aluminum gained by simulations (a, b)\\nand experiments (c,d) are presented, respectively.The\\nexperimental concentration maps were determined by\\nelectron microprobe analysis (EMPA).[84] For both\\nelements, a good agreement between the simulated and\\nthe experimentally gained concentration distributions\\ncan be observed, e.g., the rhenium concentration in the\\ncenter of the dendrite is 4.5 wt pct (a) and 4.9 wt pct (b),\\nrespectively. We note that the experimentally determined composition of cÂ¢ in the interdendritic regions lies\\nsignificantly below the theoretical equilibrium composition, which is probably due to the size of the electron\\nbeam which averages c and cÂ¢ regions.The goal during solution heat treatment is to achieve\\nthe highest diffusion coefficients by a maximum temperature profile while avoiding incipient melting in order\\nto prevent diminishing the mechanical properties.[85â€“87]\\nThe time-consuming experimental approach to define\\nthe solution heat treatment by measuring incipient\\nmelting temperatures for different heating rates by\\ndifferential scanning calorimetry[88] is circumvented by\\na numerical heat treatment optimization procedure.[68]\\nThe computed heat treatment needs an experimental\\nvalidation, because incipient melting temperature estimation errors in the range of \\x04 20 K depending on the\\nalloy composition may occur due to inaccuracies in the\\nmaterial databases.The original optimization procedure consists of three\\nsteps: pre-processing of experimentally measured the\\nas-cast concentration fields into a numerical representation, optimization of solution heat treatment, and the\\nprediction of a corresponding process window. The\\npre-processing step is mainly redundant once the procedure is integrated in our simulation chain since\\nnumerically predicted concentration fields are already\\navailable from the casting simulations. During heat\\ntreatment optimization, the maximum stepwise temperature history is determined without incipient melting.\\nThe phase-field model applied for heat treatment is a diffuse-interface approach,[81]\\nwhich requires similarly to\\nthe casting model the interface energy and mobility. The\\nsoftware tool MICRESS is applied using thermodynamic and kinetic databases.[68]\\nSince processing restrictions sometimes hinder applying maximum\\ntemperatures, a process window with lowered maximum\\ntemperatures is computed. The final results of the\\nsimulation are the concentration fields for all elements\\nof the alloy composition after the optimal heat\\ntreatment.\\nA comparison between microprobe measurements of\\ncommercially purchased single-crystal plates and simulation results of the chromium segregation in CMSX-4\\nin the as-cast state and after heat treatment is shown in\\nFigure 7. The microprobe measurements (a) are pre-processed to get a numerical representation of the\\nchromium concentrations (b). A well accordance\\nbetween the homogenized states in the experimental\\nand numerical results after heat treatment is reached, (c)\\nand (d), respectively.One approach to approximate TCP-phase susceptibility is the application of equilibrium calculations with\\nThermo-Calc, as mentioned in Section III. The\\nTCP-phase precipitation model is based on the Kampmannâ€“Wagner binary system method and was extended\\nby Rettig et al.\\n[40] for multi-component systems. On every time step, the nucleation rate and precipitation\\ngrowth are evaluated. The nucleation rate depends on\\nthe free enthalpy of nucleation, which is calculated using\\nthe CALPHAD method. The precipitation growth\\nincludes the thermodynamic equilibrium for the chemical potential of precipitate and the matrix interface as\\nwell as the flux balance for each element. A detailed\\nmodel description as well as simulation results are\\npresented in Reference 40 and validated in Reference 18.\\nThis approach, as well as other existing models to\\npredict precipitation on TCP-phases are mainly based\\non simple models, e.g., by using precipitate classes\\nwithout full-field resolution of the concentration\\nfields.[89,90] The complex behavior of TCP-phases in\\nc=c0 taking into account the microstructural evolution,\\ndiffusion processes, available nucleation sites, interface\\nenergies, and the interaction between TCP-phases is an\\nongoing research topic. All these aspects can be combined in phase-field simulations[82,91,92]\\nand then applied\\nto TCP-phase precipitation in Ni-base superalloys.Due to the high computational effort, it is not possible\\nto include the whole TCP-phase precipitation simulation\\nchain into the optimization routine for the design of\\ncomplex Ni-base superalloys. Therefore, the main idea is\\nthe approximation with a surrogate model, which is\\ncoupled into the optimization procedure within the â€˜â€˜pre-process property modelsâ€™â€™ step (Figure 1). This\\napproach has two necessary prerequisites. First, each\\nsimulation tool and subsequently its combination into\\nthe simulation chain needs to be validated by wellknown reference alloy compositions like CMSX-4.\\nSecond, a widespread numerical sensitivity analysis on\\nthe simulation chain on a large design-space needs to be\\nexecuted to develop a regression-based model covering\\nthe most important findings.\\nOur current approach for the development of a\\nregression-based model bases on the Johnsonâ€“Mehlâ€“Avrami equation[93] for the time-dependent\\ntransformation of nuclei where fVÃ°t; c; TÃž Â¼ f\\neq\\nV Ã°c; TÃž 1  exp kÃ°c; TÃž \\x05 t\\nnÃ°c;TÃž h i   \\x08 ; fVÃ°t; c; TÃž is the time-dependent fraction of the\\nsum of all TCP-phases and f\\neq\\nV Ã°c; TÃž is the TCP-phase\\namount provided by thermodynamic equilibrium CALPHAD calculations. The Avrami coefficients k and n are\\nassumed to be dependent on the concentration c and temperature T and are to be derived. Although, the\\nevolution of different types of TCP-phases is much more\\ncomplex with nucleation and growth in parallel as well\\nas phase transformation, this approach is well suited to\\nmodel the overall time evolution.[18] The predictive\\npower of this surrogate model is defined by the exact\\ndetermination of these parameters, which have to be\\nevaluated by the regression analysis. Once all individual\\nsimulation tools of the simulation chain are completely\\nvalidated, the regression analysis of TCP-phase predictions from the whole simulation chain is the next\\nresearch step.'"
      ]
     },
     "execution_count": 120,
     "metadata": {},
     "output_type": "execute_result"
    }
   ],
   "source": [
    "rs_content"
   ]
  },
  {
   "cell_type": "code",
   "execution_count": 121,
   "id": "8e8a2bbf",
   "metadata": {},
   "outputs": [],
   "source": [
    "research_summary = open('C:/Users/nisha/Desktop/Developer Summary.txt','r')\n",
    "rs_summary = research_summary.read()"
   ]
  },
  {
   "cell_type": "code",
   "execution_count": 122,
   "id": "42e9ed55",
   "metadata": {},
   "outputs": [
    {
     "data": {
      "text/plain": [
       "'In this paper, we present a numerical model which\\nwas applied to revisit the development of different\\nNi-base superalloys and describe a numerical approach\\nto predict the formation of TCP-phases for further\\ninclusion into the optimization procedure by a surrogate\\nmodel: A single-start multi-criteria optimization tool\\nMultOpt++ based on a multi-start derivative is\\npresented. The simple extension to further (surrogate) models due to its plugin structure, the application of multiple optimization goals, and an\\nimproved post-processing of the Pareto front is\\ndemonstrated.\\nThe development of ERBO/13 and ERBO/15 is\\nrevisited and the achievements as well as the\\noptimization weaknesses are discussed. Although,\\nmodels on important topics like TCP-phase formation are not applied, a set of newly designed and\\nhighly promising alloy compositions was found.\\nA possible model extension for the multi-criteria\\noptimization regarding phase stability is presented.\\nThe whole simulation chain combines different\\nnumerical tools to finally predict the evolution of\\nTCP-phases. A development ansatz for a surrogate\\nmodel is presented including the coupling to the\\nmulti-criteria optimization tool MultOpt++.\\nBesides the information on TCP-phase formation,\\nthe simulation chain offers the possibility for further\\nsurrogate models regarding designing, processing,\\nand material properties of Ni-base superalloys. These\\nimprovements may help to find better rhenium-free\\nalloy compositions with properties more close to or\\neven better as the performance of CMSX-4.'"
      ]
     },
     "execution_count": 122,
     "metadata": {},
     "output_type": "execute_result"
    }
   ],
   "source": [
    "rs_summary"
   ]
  },
  {
   "cell_type": "code",
   "execution_count": 123,
   "id": "2be505b7",
   "metadata": {},
   "outputs": [],
   "source": [
    "contraction_mapping = {\"ain't\": \"is not\", \"aren't\": \"are not\",\"can't\": \"cannot\", \"'cause\": \"because\", \"could've\": \"could have\", \"couldn't\": \"could not\",\n",
    "                           \"didn't\": \"did not\",  \"doesn't\": \"does not\", \"don't\": \"do not\", \"hadn't\": \"had not\", \"hasn't\": \"has not\", \"haven't\": \"have not\",\n",
    "                           \"he'd\": \"he would\",\"he'll\": \"he will\", \"he's\": \"he is\", \"how'd\": \"how did\", \"how'd'y\": \"how do you\", \"how'll\": \"how will\", \"how's\": \"how is\",\n",
    "                           \"I'd\": \"I would\", \"I'd've\": \"I would have\", \"I'll\": \"I will\", \"I'll've\": \"I will have\",\"I'm\": \"I am\", \"I've\": \"I have\", \"i'd\": \"i would\",\n",
    "                           \"i'd've\": \"i would have\", \"i'll\": \"i will\",  \"i'll've\": \"i will have\",\"i'm\": \"i am\", \"i've\": \"i have\", \"isn't\": \"is not\", \"it'd\": \"it would\",\n",
    "                           \"it'd've\": \"it would have\", \"it'll\": \"it will\", \"it'll've\": \"it will have\",\"it's\": \"it is\", \"let's\": \"let us\", \"ma'am\": \"madam\",\n",
    "                           \"mayn't\": \"may not\", \"might've\": \"might have\",\"mightn't\": \"might not\",\"mightn't've\": \"might not have\", \"must've\": \"must have\",\n",
    "                           \"mustn't\": \"must not\", \"mustn't've\": \"must not have\", \"needn't\": \"need not\", \"needn't've\": \"need not have\",\"o'clock\": \"of the clock\",\n",
    "                           \"oughtn't\": \"ought not\", \"oughtn't've\": \"ought not have\", \"shan't\": \"shall not\", \"sha'n't\": \"shall not\", \"shan't've\": \"shall not have\",\n",
    "                           \"she'd\": \"she would\", \"she'd've\": \"she would have\", \"she'll\": \"she will\", \"she'll've\": \"she will have\", \"she's\": \"she is\",\n",
    "                           \"should've\": \"should have\", \"shouldn't\": \"should not\", \"shouldn't've\": \"should not have\", \"so've\": \"so have\",\"so's\": \"so as\",\n",
    "                           \"this's\": \"this is\",\"that'd\": \"that would\", \"that'd've\": \"that would have\", \"that's\": \"that is\", \"there'd\": \"there would\",\n",
    "                           \"there'd've\": \"there would have\", \"there's\": \"there is\", \"here's\": \"here is\",\"they'd\": \"they would\", \"they'd've\": \"they would have\",\n",
    "                           \"they'll\": \"they will\", \"they'll've\": \"they will have\", \"they're\": \"they are\", \"they've\": \"they have\", \"to've\": \"to have\",\n",
    "                           \"wasn't\": \"was not\", \"we'd\": \"we would\", \"we'd've\": \"we would have\", \"we'll\": \"we will\", \"we'll've\": \"we will have\", \"we're\": \"we are\",\n",
    "                           \"we've\": \"we have\", \"weren't\": \"were not\", \"what'll\": \"what will\", \"what'll've\": \"what will have\", \"what're\": \"what are\",\n",
    "                           \"what's\": \"what is\", \"what've\": \"what have\", \"when's\": \"when is\", \"when've\": \"when have\", \"where'd\": \"where did\", \"where's\": \"where is\",\n",
    "                           \"where've\": \"where have\", \"who'll\": \"who will\", \"who'll've\": \"who will have\", \"who's\": \"who is\", \"who've\": \"who have\",\n",
    "                           \"why's\": \"why is\", \"why've\": \"why have\", \"will've\": \"will have\", \"won't\": \"will not\", \"won't've\": \"will not have\",\n",
    "                           \"would've\": \"would have\", \"wouldn't\": \"would not\", \"wouldn't've\": \"would not have\", \"y'all\": \"you all\",\n",
    "                           \"y'all'd\": \"you all would\",\"y'all'd've\": \"you all would have\",\"y'all're\": \"you all are\",\"y'all've\": \"you all have\",\n",
    "                           \"you'd\": \"you would\", \"you'd've\": \"you would have\", \"you'll\": \"you will\", \"you'll've\": \"you will have\",\n",
    "                           \"you're\": \"you are\", \"you've\": \"you have\"}"
   ]
  },
  {
   "cell_type": "code",
   "execution_count": 124,
   "id": "360b0b08",
   "metadata": {},
   "outputs": [],
   "source": [
    "stop_words = set(stopwords.words('english')) \n",
    "\n",
    "def text_cleaner(paper):\n",
    "    \n",
    "    newString = rs_content.lower()\n",
    "    newString = BeautifulSoup(newString, \"lxml\").text\n",
    "    newString = ' '.join([contraction_mapping[t] if t in contraction_mapping else t for t in newString.split(\" \")])\n",
    "    newString = re.sub(r'\\([^)]*\\)', '', newString)\n",
    "    newString = re.sub('\"','', newString)\n",
    "    tokens = [word for word in newString.split() if not word in stop_words]\n",
    "    long_words = []\n",
    "    \n",
    "    for i in tokens:\n",
    "        if len(i) > 1:\n",
    "            long_words.append(i)\n",
    "    \n",
    "    return (\" \".join(long_words)).strip()"
   ]
  },
  {
   "cell_type": "code",
   "execution_count": 125,
   "id": "b24000be",
   "metadata": {},
   "outputs": [],
   "source": [
    "def summary_text_cleaner(paper_summary):\n",
    "    \n",
    "    newString = rs_summary.lower()\n",
    "    newString = BeautifulSoup(newString, \"lxml\").text\n",
    "    newString = ' '.join([contraction_mapping[t] if t in contraction_mapping else t for t in newString.split(\" \")])\n",
    "    newString = re.sub(r'\\([^)]*\\)', '', newString)\n",
    "    newString = re.sub('\"','', newString)\n",
    "    tokens = [word for word in newString.split() if not word in stop_words]\n",
    "    long_words = []\n",
    "    \n",
    "    for i in tokens:\n",
    "        if len(i) > 1:\n",
    "            long_words.append(i)\n",
    "    \n",
    "    return (\" \".join(long_words)).strip()"
   ]
  },
  {
   "cell_type": "code",
   "execution_count": 126,
   "id": "f4a3d8a2",
   "metadata": {},
   "outputs": [
    {
     "data": {
      "text/plain": [
       "'designing new single-crystal ni-base superalloy challenge due competitive requirements material properties complexity material composition eight alloying elements. additionally, modifying single element concentration usually influences one alloy property identification individual effects difficult. state-ofthe-art alloy development comprises targeted adaption existing alloy compositions experimental testing. consequently, alloy compositions potentially improved material properties within huge designspace spanned alloying elements widely unexplored today. modern alloy development combines numerical optimization methods experimental validation guide development towards promising compositions. instead single alloy composition satisfies multiple optimization criteria multi-component design-space, exist number alloy compositions representing pareto front. compositions pareto front optimal sense possible improve one criterion without worsening another. numerical approaches try determine possible pareto front compositions design-space certain multiple optimization criteria. general ansatz collect many experimental data alloy systems available develop interpolation extrapolation models unknown compositions. calphad method [1] allows prediction many physical properties complex multi-component alloys, e.g., phase fractions, phase compositions, precipitate driving forces temperature using gibbs free energy databases. today, improvement underlying databases ongoing, especially field superalloys.[2â€“4] several studies applying various approaches published field superalloys. one example combinatorial brute-force algorithm scanning large design-spaces using model characteristics like creep resistance, microstructural stability, castability, density, cost.[5] lass applied computational thermodynamics design co-ni-base superalloy six elements avoiding formation secondary phases.[6] mesh adaptive search algorithm combination calphad software used determine several design objectives, optimum alloy compositions, processing conditions. improvement optimization processing conditions, integration câ¢-precipitation kinetics[7] considering higher computational effort phase evolution prediction. another approach combination calphad computations together artificial neural networks,[8] whereby approach valid within small parameter variation well-known alloy compositions. global optimization techniques together large experimental databases applied designing alloys optimum composition.[9â€“11] promising results achieved coupling genetic search algorithms calphad computations.[9,12,13] li et al. proposed computational framework combining genetic algorithms, calphad computations, mechanistic material models optimize alloy composition within ternary system ni-al-cr.[14] however, coupling genetic algorithm additional, computationally expensive models, prevent optimization within large n-dimensional design-space. therefore, simplified surrogate models need defined,[15] easy couple multi-criteria optimization problem. work, numerical multi-criteria optimization tool multopt++ using genetic search algorithm, calphad calculations, semi-empirical well surrogate models alloy development presented. successful application development rhenium-free single-crystal ni-base superalloys erbo/ 13[16,17] erbo/15[18,19] revisited. one important goal optimization process replacement rhenium refractory elements like tungsten molybdenum. higher amount refractory elements may cause phase instability evolution detrimental, brittle topologically close-packed phases.[20â€“22] since described optimization procedure apply phase stability ni-base superalloys, present possible route develop surrogate model integration optimization procedure.the numerical approach simulation-assisted alloy development based multi-criteria, multi-start optimization model using sequential quadratic programming described earlier.[16] semi-empirical equation model room-temperature density well model temperature-depended misfit caron et al.,[23] model solid solution strengthening index isss fleischmann et al. [24] applied. thermodynamic equilibrium material properties provided calphad method. computations applied subset possible compositions results approximated kriging surrogate model.[15,25] alloying elements concentration range set design-space. probability find global optimal composition increased choosing various starting points across whole design-space. within space, optimum alloy compositions certain optimization criteria searched applying surrogate semi-empirical models. accuracy surrogate models improved refining approximation current set optimal compositions restart.the first implementation optimization tool uses single-criterion optimization function, i.e., one goal optimized time. however, optimization ni-base superalloys demands multiple optimization goals, e.g., maximizing solid solution strengthening index minimizing density. accordingly, multi-criteria optimization, solid solution strengthening index optimized sampling density holding constant optimization. final alloy composition found post-processing pareto front, i.e., choosing ideal composition satisfy additional criteria. program flow leads multi-start, multi-criteria optimization limited computational effort. however, method works less well, two criteria optimized, additional criterion increases number dimensions sampling domain. addition, pareto front contains maximally many compositions number sampling points density. therefore, improved optimization routine allows single-start, simultaneous multi-criteria optimization without limitations number optimization criteria presented present paper.the new plugin-based structure optimization tool multopt++ replaces every part previous alloy-by-design computational routine easily extendable new features. property models, surrogate modeling methods, execution modes, starting point selection algorithms, optimization library kernels, components represented certain plugin. allows combine, example, models based different thermodynamic databases even different calphad applications. also possible apply different optimization algorithms improve calculation effort result accuracy. simplified schematic representation multi-criteria optimization tool finding pareto front shown figure 1.it mainly consists four steps: selection appropriate starting points design-space, pre-processing surrogate property models, execution optimization engine, post-processing pareto front necessary.the alloy designer possibility manually select starting points available use latin hypercube sampling optimal selection starting points. improved latin hypercube sampling[26] provides better distribution starting points within n-dimensional design-spaces requiring higher computational effort.if surrogate property models applied, need initialized first run improved iteration optimization routine. starting points used determination initial surrogate models, i.e., property function evaluated starting points interpolation applied kriging algorithm. iterations, surrogate model improved minimizing maximal predicted model error provided kriging algorithm maximal expected improvement factor proposed jones et al. [27] kriging approximation model dynamically linked multopt++ external c-compiled matlab dace-toolbox library.[28]the insights multopt++ optimization engine illustrated figure demonstrated many researches wide range approaches,evolutionary algorithms effective solving multi-objective optimization problems.[29â€“32] therefore, first optimization step performed evolutionary algorithm provided powerful optimization library geneva â€˜â€˜ivrea via arduinoâ€™â€™ 1.6.1*. since evolutionary algorithms typically need many iterations, last optimization optionally performed deterministic search algorithm. step requires transformation multi-criteria single-criterion optimization problem, similar way multopt. geneva library provides probabilistic algorithms simulated annealing, swarm intelligence, deterministic algorithms like gradient descents algorithm. last one applied improve pareto front last optimization step. optionally, step combined one probabilistic search algorithms benefit multi-point start already pareto optimal random-selected individuals results fewer steps higher computational effort. case optimization direct usage objective functions without surrogate models, pareto front direct result post-processing well multiple optimization runs skipped.if surrogate models applied optimization run, post-processing pareto front necessary. properties predicted optimal compositions recalculated direct calculation objective functions. surrogate optimization goals, pareto selection surrogate constraint properties, feasibility check repeated, respectively. post-processing, current pareto front may worsen merged pareto front previous optimization run. final optimal points starting points next optimization run also resulting improvement surrogate models within relevant concentration space. pareto front converges, i.e., optimal values single pareto point cannot improved within consecutive optimization runs, optimization finished. number iterations adjustable default value 20.the numerical optimization tool multopt already successfully applied previous studies.[16,18] starting point cmsx-4 second-generation single-crystal ni-base superalloy[33] successfully applied in, e.g., aircraft turbines.[34,35] addition wt pct rhenium, high-temperature creep lifetime reached due extremely low diffusion coefficient. however, resulting disadvantage impossibility complete solutionizing elimination segregation. importantly, rhenium rare material expensive prone speculative manipulation. therefore, tried develop rhenium-free ni-base superalloy similar creep properties cmsx-4. numerical results previous studies[16,18] revisited modified tool multopt++ presented here. basic idea previous alloy development effort follows. rhenium solid solution strengthener replaced refractory elements like tungsten molybdenum. refractory elements, however, heavy, i.e., increase density. tungsten molybdenum effective rhenium one needs higher amounts account this, i.e., density increase even more. noticed certain â€˜â€˜control elementsâ€™â€™ like titanium tantalum used change c/c0 partitioning behavior.[36â€“39] means addition control elements, solid solution strengtheners pushed c0 -precipitates, less efficient, matrix, wanted. strategy, alloys minimum amount refractory metals obtained.in first development campaign,[16] varied mostly tungsten tantalum obtained alloy erbo/13[17] result. development, tried keep c0 -volume fraction lattice misfit 1100 close cmsx-4 possible. focused partitioning behavior tungsten optimization. cmsx-4, tungsten slightly enriched matrix phase. therefore, aimed increasing amount compensate rhenium effect creep resistivity. density, solid solution strengthening index, lattice misfit optimum composition erbo/13 reference cmsx-4 shown figure 2. calculations performed using multopt++. second isoline 0.2 pct lattice misfit shows pareto front optimization constraints. solid solution strengthening index erbo/13 found 8950 kg/m3. demonstrates current set strong restrictions prevents achieving desired index 7.7 at. pct cmsx-4, densities 9000 kg/m3 desired. second, successful campaign,[18] varied molybdenum titanium obtained erbo/15.[19] erbo/15, lattice misfit constraint somewhat relaxed. since main disadvantage erbo/13 high density, strong constraints lattice misfit c0 -phase fraction opened ranges 0.5 0.1 pct 43 47 mol pct,respectively. optimization goals minimum density, similar creep resistivity cmsx-4, rhenium-free alloy composition. resulting color code lattice misfit optimal composition erbo/15 also shown figure 2. highest solid solution strengthening index found minimum lattice misfit 0.5 pct. choosing index cmsx-4, optimal composition erbo/15 minimum density 8300 kg/m3 found.in order verify predictions, erbo/13 well erbo/15 prepared form small buttons arc melting subsequently analyzed regarding physical properties creep performance.[16,18] despite weaknesses thermodynamic databases, multi-criteria optimized alloy compositions agree well design constraints. holds true semi-empirical models well thermodynamic properties exemplary, largest mismatch found solid solution strengthening index erbo/13, experimental determined value roughly pct lower numerical prediction.due reduced solid solution strengthening index erbo/13, creep resistance slightly lower cmsx-4. although erbo/15 also contains rhenium, creep strength comparable cmsx-4 low stresses.[18] therefore, specific creep strength even higher due significantly reduced density. however, high-stress, low-temperature regime cmsx-4 seems superior erbo compositions, indicates lower relevance solid solution strengthening contrast c0 -strengthening. approximation regarding tcp-susceptibility, used equilibrium calculation thermo-calc engine database ttni8 alloys.[40] phase amounts solvus temperatures overall tcp content compared cmsx-4 alloys. erbo/13 shows lowest solvus temperature tcp-phase amount among three alloys. erbo/ 15, however, shows also much lower solvus temperature higher tcp-phase content 950 below.the optimization tool multopt++ successfully applied revisit alloy development erbo/13 erbo/15 improved execution software structure simplified optimization procedure, since multiple criteria optimized once. necessity dividing additional optimization goals several single-criteria optimization steps omitted. additionally, plugin-based structure allows easily adopting routine new optimization problems novel property models well optimization algorithms. result calculation, i.e., suggested optimal composition tried experiment, could recomputed minimal variations, e.g., cobalt tungsten contents erbo/15 development multopt++ tool focus important aspects regarding superalloys currently neglected indirectly accounted optimization tool. therefore, focus within section approach introduce surrogate model phase stability. since decades, challenging task predict phase instability ni-base superalloys causing formation tcp-phases. due fact tcp-phase precipitation complex time-temperature-depending process nucleation growth process different tcp-phases well precipitation sequences appear.[21,41,42] development phase prediction started phase computation based electron configuration alloying elements.[43] improvement model new phacomp,[44] applied combination calphad computations today.[5] suffers poor sometimes incorrect predictions, 2d structure map representation tcp-phase occurrences suggested.[45] addition influence electronic effects,[46] composition-dependent size factor introduced span 2d map. maps applicable experimentally observed tcp-phase precipitates superalloys[47,48] well suited validate tcp-phase predictions combined calphad phase-field simulations. numerical tcp-phase predictions require reliable material databases, careful simulation setup utilizing thermodynamic computations applying databases final validation, e.g., structure maps. following sections, describe crossdisciplinary approach material database improvements followed tcp-phase prediction simulation chain. finally, present idea introduce surrogate model tcp-phase prediction applicable numerical optimization procedure.more knowledge tcp-phase formation binary ternary systems necessary extrapolate correctly higher order systems. current research connects combinatorial thin-film experimentation bulk experimentation ab-initio simulations predict tcp-phases ternary systems.[4] results used improve existing material databases thereby improve predictions full alloy composition. following, concept crossdisciplinary material database improvement explained general workflow schematic figure 3. starting point external input existing databases calculations input instance interesting, yet unknown wellknown ternary system composition range tcp-phases expected. based initial input, thin-film material library interesting composition rage fabricated 100mm diameter substrate magnetron sputtering using wedge-type multi-layer approach.[49,50] material library annealed analyzed energy dispersive x-ray spectroscopy electric resistance measurements, x-ray diffraction results combinatorial thin-film experimentation direct inputs bulk experimentation arising questions addressed ab-initio density-functional theory calculations. compositions found interest material library systematized bulk arc melting[51,52] analyzed scanning electron microscope edx, transmission electron microscope nanoindentation well. structural stability formation energy phases found material library analyzed dft calculations.[53] dft calculations bulk experimentation also exchange results refinement. combination three disciplines enables better understanding results also contribute experimental/calculated data input material database. updated material database used predict phase diagrams calphad.[54] calphad results crosschecked existing experimental data library enabling feedback loop refine calphad predictions figure shows summary results recent study co-ti-w system applied concept cmdi.[4] figure 4, isothermal section ternary phase diagram co-ti-w system predicted calphad based existing database tcni8 shown. since experimental results well dft calculations indicate presence titanium l-phase, solubility titanium modeled preliminary modification thermodynamic database. figure represents isothermal section ternary phase diagram co-ti-w system predicted calphad based improved tcni8 database. due stabilizing effect titanium taken account second simulation, single-phase region l-phase enlarged ternary also existence range l-phase ternary co-ti-w system enlarged. this, also expected volume fraction l-phase multi-phase regions increased. results demonstrate suitability cmdi approach advantageously modify material databases.second higher generation ni-base superalloys highly alloyed refractory elements like tungsten, molybdenum, rhenium, ruthenium, respectively, obtain excellent solid solution strengthening creep properties.[16,18,37,55,56] solidify dendritic microstructure causing microsegregation alloying elements, low melting eutectic phases, unfavorably shaped c0 -precipitates.[57â€“59] initial solution heat treatment normally applied remove microsegregations eutectic phases dissolve c0 -precipitates followed heat treatment steps ensure well-defined cubic c0 -precipitates.[60,61] full homogenization heat treatment elements reasonable times prevented due low diffusivity combination preferred segregation dendrite cores solidification.[60,62,63] remaining segregation refractory elements dendrite cores heat treatment causes formation intermetallic phases service conditions.[64] ni-base superalloys, several brittle tcp-phases like r-, l-, p-, r-phases found,[20â€“22] additionally deplete solid solution strengtheners c-matrix.[65] experimental investigations showed nucleation occurs mainly grain boundaries previously formed metastable r-phase within c-region.[42,65] morphologies various, e.g., plate-like, lath-type, globular[22,66] preferred directional growth coherency {111}c {100}c planes.[20â€“22] embrittlement load due tcp-phases combination surrounding matrix depleted alloying elements results degraded mechanical well chemical properties.[37,42] order minimize tcp-phase formation newly developed ni-base superalloys, numerical optimization tool needs extended tcp-phase prediction model. since evolution tcp-phases influenced manufacturing service conditions, comprehensive numerical simulation necessary, illustrated figure 5. casting parameters used predict primary dendritic arm spacing simulation steps make use thermodynamic material databases according superalloy base material. here, improved material databases cmdi approach described section ivâ€“a necessary ensure reliable prediction whole simulation chain. solidification simulation phase-field simulation initialized primary dendrite arm spacing alloy composition.[67] result segregation profile input optimization tool predict best heat treatment parameters maximize homogeneity.[68] resuming segregation profile heat treatment finally applied phase-field simulations predict microstructural evolution c/c0 considering influence multi-component diffusion nucleation growth tcp-phases. whole simulation chain established validated, possible extract information regarding designing, processing, material properties studied alloy composition. here, focus last result tcp-phase evolution, finally converted surrogate model application optimization tool multopt++. casting parameters determined new investment casting process named fluidized carbon bed cooling .[69] compared well-known liquid-metal cooling process,[70â€“72] fcbc applies inert gas fluidized bed glassy carbon beads instead bath molten tin carry buoyant layer freely movable insulation particles.[73] so-called dynamic baffle[74] properly separates heating solidification zones perfectly adapts contour solidifying component time withdrawal. low-density dynamic baffle material is, similar bed material, based carbon. dynamic baffle crucial improve temperature gradient investment casting. dynamic baffle, carbonâ€™s superalloy material compatibility innovative process control previous fluidized bed attempts key features robust fcbc approach.[69] fcbc process achieves higher temperature gradients, increased withdrawal rates comparison conventional investment casting devices possible. resulting pdas predicted empirical model â¼ g0:5 v0:25; [75] constant temperature gradient, solidification velocity. case directional solidification casting, solidification velocity approximated withdrawal rate. temperature gradient certain fcbc process setup either determined numerical simulation[77] one sample experiment including measurement pdas.[69] lowest pdas around 300 lm single-crystal microstructure achieved withdrawal rate 5.0mm/min. reduction industrial state art significantly reduces element segregation heat treatment durations.the objective next step simulation chain understand formation as-cast microstructure represents starting point subsequent heat treatment simulations. numerical approach relies solely input casting parameters, nominal alloy composition, estimated pdas. final output concentration maps alloying elements. modeling approach, multi-component multi-phase-field model[80,81] applied. free energy formulation system serves basis considering contributions interfacial, chemical, elastic energy. following several mathematical operations[82] use double-obstacle potential, phase-field equation formulated antisymmetric approximation mab represents interface mobility, rab interface energy, interface width, dgab gibbs free energy difference phases b. basically, /a indicator function used tracking moving interface process solidification values contribution gibbs free energy evaluated coupling software package thermo-calc. result, optimal thermodynamic description solute partitioning system solidification process ensured. diffusion solved respect elements alloy composition. amount phases limited liquid, primary c0 presented numerical approach solidification casting validated experimental results directionally solidified cmsx-4 applying vertical bridgman process.[83] software tool, commercial software micress combination databases tcni8 mobni4 used. thermal gradient taken previous work,[83] value determined combined numerical experimental approach. model, withdrawal rates considered case solidification experiments. pdas taken input simulations. figure 6, concentration distributions rhenium aluminum gained simulations experiments presented, respectively.the experimental concentration maps determined electron microprobe analysis .[84] elements, good agreement simulated experimentally gained concentration distributions observed, e.g., rhenium concentration center dendrite 4.5 wt pct 4.9 wt pct respectively. note experimentally determined composition câ¢ interdendritic regions lies significantly theoretical equilibrium composition, probably due size electron beam averages câ¢ regions.the goal solution heat treatment achieve highest diffusion coefficients maximum temperature profile avoiding incipient melting order prevent diminishing mechanical properties.[85â€“87] time-consuming experimental approach define solution heat treatment measuring incipient melting temperatures different heating rates differential scanning calorimetry[88] circumvented numerical heat treatment optimization procedure.[68] computed heat treatment needs experimental validation, incipient melting temperature estimation errors range 20 depending alloy composition may occur due inaccuracies material databases.the original optimization procedure consists three steps: pre-processing experimentally measured as-cast concentration fields numerical representation, optimization solution heat treatment, prediction corresponding process window. pre-processing step mainly redundant procedure integrated simulation chain since numerically predicted concentration fields already available casting simulations. heat treatment optimization, maximum stepwise temperature history determined without incipient melting. phase-field model applied heat treatment diffuse-interface approach,[81] requires similarly casting model interface energy mobility. software tool micress applied using thermodynamic kinetic databases.[68] since processing restrictions sometimes hinder applying maximum temperatures, process window lowered maximum temperatures computed. final results simulation concentration fields elements alloy composition optimal heat treatment. comparison microprobe measurements commercially purchased single-crystal plates simulation results chromium segregation cmsx-4 as-cast state heat treatment shown figure 7. microprobe measurements pre-processed get numerical representation chromium concentrations well accordance homogenized states experimental numerical results heat treatment reached, respectively.one approach approximate tcp-phase susceptibility application equilibrium calculations thermo-calc, mentioned section iii. tcp-phase precipitation model based kampmannâ€“wagner binary system method extended rettig et al. [40] multi-component systems. every time step, nucleation rate precipitation growth evaluated. nucleation rate depends free enthalpy nucleation, calculated using calphad method. precipitation growth includes thermodynamic equilibrium chemical potential precipitate matrix interface well flux balance element. detailed model description well simulation results presented reference 40 validated reference 18. approach, well existing models predict precipitation tcp-phases mainly based simple models, e.g., using precipitate classes without full-field resolution concentration fields.[89,90] complex behavior tcp-phases c=c0 taking account microstructural evolution, diffusion processes, available nucleation sites, interface energies, interaction tcp-phases ongoing research topic. aspects combined phase-field simulations[82,91,92] applied tcp-phase precipitation ni-base superalloys.due high computational effort, possible include whole tcp-phase precipitation simulation chain optimization routine design complex ni-base superalloys. therefore, main idea approximation surrogate model, coupled optimization procedure within â€˜â€˜pre-process property modelsâ€™â€™ step approach two necessary prerequisites. first, simulation tool subsequently combination simulation chain needs validated wellknown reference alloy compositions like cmsx-4. second, widespread numerical sensitivity analysis simulation chain large design-space needs executed develop regression-based model covering important findings. current approach development regression-based model bases johnsonâ€“mehlâ€“avrami equation[93] time-dependent transformation nuclei fvã°t; c; tãž â¼ eq ã°c; tãž exp kã°c; tãž nã°c;tãž fvã°t; c; tãž time-dependent fraction sum tcp-phases eq ã°c; tãž tcp-phase amount provided thermodynamic equilibrium calphad calculations. avrami coefficients assumed dependent concentration temperature derived. although, evolution different types tcp-phases much complex nucleation growth parallel well phase transformation, approach well suited model overall time evolution.[18] predictive power surrogate model defined exact determination parameters, evaluated regression analysis. individual simulation tools simulation chain completely validated, regression analysis tcp-phase predictions whole simulation chain next research step.'"
      ]
     },
     "execution_count": 126,
     "metadata": {},
     "output_type": "execute_result"
    }
   ],
   "source": [
    "clean_text = text_cleaner(rs_content)\n",
    "clean_text"
   ]
  },
  {
   "cell_type": "code",
   "execution_count": 127,
   "id": "b7be13dc",
   "metadata": {},
   "outputs": [
    {
     "data": {
      "text/plain": [
       "'paper, present numerical model applied revisit development different ni-base superalloys describe numerical approach predict formation tcp-phases inclusion optimization procedure surrogate model: single-start multi-criteria optimization tool multopt++ based multi-start derivative presented. simple extension models due plugin structure, application multiple optimization goals, improved post-processing pareto front demonstrated. development erbo/13 erbo/15 revisited achievements well optimization weaknesses discussed. although, models important topics like tcp-phase formation applied, set newly designed highly promising alloy compositions found. possible model extension multi-criteria optimization regarding phase stability presented. whole simulation chain combines different numerical tools finally predict evolution tcp-phases. development ansatz surrogate model presented including coupling multi-criteria optimization tool multopt++. besides information tcp-phase formation, simulation chain offers possibility surrogate models regarding designing, processing, material properties ni-base superalloys. improvements may help find better rhenium-free alloy compositions properties close even better performance cmsx-4.'"
      ]
     },
     "execution_count": 127,
     "metadata": {},
     "output_type": "execute_result"
    }
   ],
   "source": [
    "clean_summary = summary_text_cleaner(rs_summary)\n",
    "clean_summary"
   ]
  },
  {
   "cell_type": "markdown",
   "id": "9eab657d",
   "metadata": {},
   "source": [
    "# Similarity Matrix with jaro winkler"
   ]
  },
  {
   "cell_type": "code",
   "execution_count": 128,
   "id": "99b76274",
   "metadata": {},
   "outputs": [
    {
     "data": {
      "text/plain": [
       "159"
      ]
     },
     "execution_count": 128,
     "metadata": {},
     "output_type": "execute_result"
    }
   ],
   "source": [
    "sentences  = [x for x in clean_text.split('. ') if x not  in ['',' ','..','.','...']]\n",
    "len(sentences)"
   ]
  },
  {
   "cell_type": "code",
   "execution_count": 129,
   "id": "3ae12594",
   "metadata": {},
   "outputs": [],
   "source": [
    "def create_similarity_matrix(sentences):\n",
    "    sentence_length = len(sentences)\n",
    "    sim_mat = np.zeros((sentence_length,sentence_length))\n",
    "    \n",
    "    for i in range(sentence_length):\n",
    "        for j in range(sentence_length):\n",
    "            if i != j:\n",
    "                similarity = jaro.jaro_winkler_metric(sentences[i],sentences[j])\n",
    "                sim_mat[i][j] = similarity\n",
    "                \n",
    "    return sim_mat"
   ]
  },
  {
   "cell_type": "code",
   "execution_count": 130,
   "id": "fc6f29b5",
   "metadata": {},
   "outputs": [
    {
     "name": "stdout",
     "output_type": "stream",
     "text": [
      "numerical approaches try determine possible pareto front compositions design-space certain multiple optimization criteria\n"
     ]
    }
   ],
   "source": [
    "sim_mat = create_similarity_matrix(sentences)\n",
    "\n",
    "G = nx.from_numpy_matrix(sim_mat)\n",
    "\n",
    "pr_sentences_similarity = nx.pagerank(G)\n",
    "\n",
    "original_text_mapping = {k:v for k,v in enumerate(clean_text.split('. '))}\n",
    "ranked_sentences = [(original_text_mapping[sent],rank) for sent,rank, in sorted(pr_sentences_similarity.items(),key = lambda item: item[1],reverse = True)]\n",
    "\n",
    "print(ranked_sentences[0][0])"
   ]
  },
  {
   "cell_type": "code",
   "execution_count": 131,
   "id": "8277cc4f",
   "metadata": {},
   "outputs": [],
   "source": [
    "def generate_summary(ranked_sentences, N):\n",
    "    \n",
    "    jaro_summary = '. '.join(sent[0] for sent in ranked_sentences[:N])\n",
    "    return jaro_summary"
   ]
  },
  {
   "cell_type": "code",
   "execution_count": 132,
   "id": "0963d7b0",
   "metadata": {},
   "outputs": [
    {
     "name": "stdout",
     "output_type": "stream",
     "text": [
      "numerical approaches try determine possible pareto front compositions design-space certain multiple optimization criteria. whole simulation chain established validated, possible extract information regarding designing, processing, material properties studied alloy composition. since experimental results well dft calculations indicate presence titanium l-phase, solubility titanium modeled preliminary modification thermodynamic database. following sections, describe crossdisciplinary approach material database improvements followed tcp-phase prediction simulation chain. optionally, step combined one probabilistic search algorithms benefit multi-point start already pareto optimal random-selected individuals results fewer steps higher computational effort. since evolutionary algorithms typically need many iterations, last optimization optionally performed deterministic search algorithm. individual simulation tools simulation chain completely validated, regression analysis tcp-phase predictions whole simulation chain next research step.. pre-processing step mainly redundant procedure integrated simulation chain since numerically predicted concentration fields already available casting simulations. designing new single-crystal ni-base superalloy challenge due competitive requirements material properties complexity material composition eight alloying elements. instead single alloy composition satisfies multiple optimization criteria multi-component design-space, exist number alloy compositions representing pareto front. computations applied subset possible compositions results approximated kriging surrogate model.[15,25] alloying elements concentration range set design-space. consequently, alloy compositions potentially improved material properties within huge designspace spanned alloying elements widely unexplored today. compositions found interest material library systematized bulk arc melting[51,52] analyzed scanning electron microscope edx, transmission electron microscope nanoindentation well. property models, surrogate modeling methods, execution modes, starting point selection algorithms, optimization library kernels, components represented certain plugin. result, optimal thermodynamic description solute partitioning system solidification process ensured\n"
     ]
    }
   ],
   "source": [
    "N = 15\n",
    "jaro_summary = generate_summary(ranked_sentences,N)\n",
    "print(jaro_summary)"
   ]
  },
  {
   "cell_type": "code",
   "execution_count": 133,
   "id": "bba0eeb0",
   "metadata": {},
   "outputs": [],
   "source": [
    "from nltk.translate.bleu_score import sentence_bleu"
   ]
  },
  {
   "cell_type": "code",
   "execution_count": 134,
   "id": "370e9d6a",
   "metadata": {},
   "outputs": [],
   "source": [
    "actual = clean_summary\n",
    "predicted = jaro_summary"
   ]
  },
  {
   "cell_type": "code",
   "execution_count": 135,
   "id": "477e96a6",
   "metadata": {},
   "outputs": [
    {
     "name": "stderr",
     "output_type": "stream",
     "text": [
      "C:\\Anaconda\\lib\\site-packages\\nltk\\translate\\bleu_score.py:516: UserWarning: \n",
      "The hypothesis contains 0 counts of 2-gram overlaps.\n",
      "Therefore the BLEU score evaluates to 0, independently of\n",
      "how many N-gram overlaps of lower order it contains.\n",
      "Consider using lower n-gram order or use SmoothingFunction()\n",
      "  warnings.warn(_msg)\n",
      "C:\\Anaconda\\lib\\site-packages\\nltk\\translate\\bleu_score.py:516: UserWarning: \n",
      "The hypothesis contains 0 counts of 3-gram overlaps.\n",
      "Therefore the BLEU score evaluates to 0, independently of\n",
      "how many N-gram overlaps of lower order it contains.\n",
      "Consider using lower n-gram order or use SmoothingFunction()\n",
      "  warnings.warn(_msg)\n",
      "C:\\Anaconda\\lib\\site-packages\\nltk\\translate\\bleu_score.py:516: UserWarning: \n",
      "The hypothesis contains 0 counts of 4-gram overlaps.\n",
      "Therefore the BLEU score evaluates to 0, independently of\n",
      "how many N-gram overlaps of lower order it contains.\n",
      "Consider using lower n-gram order or use SmoothingFunction()\n",
      "  warnings.warn(_msg)\n"
     ]
    },
    {
     "data": {
      "text/plain": [
       "6.160845018182796e-232"
      ]
     },
     "execution_count": 135,
     "metadata": {},
     "output_type": "execute_result"
    }
   ],
   "source": [
    "jaro_bleu_score = sentence_bleu(actual, predicted)\n",
    "jaro_bleu_score"
   ]
  },
  {
   "cell_type": "code",
   "execution_count": 136,
   "id": "a7e9ab7e",
   "metadata": {},
   "outputs": [],
   "source": [
    "from rouge import Rouge\n",
    "ROUGE = Rouge()"
   ]
  },
  {
   "cell_type": "code",
   "execution_count": 137,
   "id": "c6fb4416",
   "metadata": {},
   "outputs": [
    {
     "data": {
      "text/plain": [
       "[{'rouge-1': {'r': 0.18435754189944134,\n",
       "   'p': 0.34375,\n",
       "   'f': 0.23999999545547113},\n",
       "  'rouge-2': {'r': 0.048672566371681415,\n",
       "   'p': 0.08870967741935484,\n",
       "   'f': 0.06285713828179626},\n",
       "  'rouge-l': {'r': 0.17318435754189945,\n",
       "   'p': 0.3229166666666667,\n",
       "   'f': 0.22545454091001663}}]"
      ]
     },
     "execution_count": 137,
     "metadata": {},
     "output_type": "execute_result"
    }
   ],
   "source": [
    "ROUGE.get_scores(actual,predicted)"
   ]
  },
  {
   "cell_type": "code",
   "execution_count": 138,
   "id": "91d9eed8",
   "metadata": {},
   "outputs": [],
   "source": [
    "rouge_jaro_score = 24"
   ]
  },
  {
   "cell_type": "markdown",
   "id": "61b3a394",
   "metadata": {},
   "source": [
    "# TextRankSummarizer"
   ]
  },
  {
   "cell_type": "code",
   "execution_count": 139,
   "id": "70e5c875",
   "metadata": {},
   "outputs": [],
   "source": [
    "parser = PlaintextParser.from_string(clean_text,Tokenizer(\"english\"))"
   ]
  },
  {
   "cell_type": "code",
   "execution_count": 140,
   "id": "1d54cd52",
   "metadata": {},
   "outputs": [],
   "source": [
    "summarizer = TextRankSummarizer()\n",
    "summary = summarizer(parser.document,8)"
   ]
  },
  {
   "cell_type": "code",
   "execution_count": 141,
   "id": "a129eec7",
   "metadata": {},
   "outputs": [],
   "source": [
    "text_summary=\"\"\n",
    "for sentence in summary:\n",
    "    text_summary+=str(sentence)"
   ]
  },
  {
   "cell_type": "code",
   "execution_count": 142,
   "id": "b82994fc",
   "metadata": {},
   "outputs": [
    {
     "name": "stdout",
     "output_type": "stream",
     "text": [
      "work, numerical multi-criteria optimization tool multopt++ using genetic search algorithm, calphad calculations, semi-empirical well surrogate models alloy development presented.[20â€“22] since described optimization procedure apply phase stability ni-base superalloys, present possible route develop surrogate model integration optimization procedure.the numerical approach simulation-assisted alloy development based multi-criteria, multi-start optimization model using sequential quadratic programming described earlier.therefore, improved optimization routine allows single-start, simultaneous multi-criteria optimization without limitations number optimization criteria presented present paper.the new plugin-based structure optimization tool multopt++ replaces every part previous alloy-by-design computational routine easily extendable new features.simplified schematic representation multi-criteria optimization tool finding pareto front shown figure 1.it mainly consists four steps: selection appropriate starting points design-space, pre-processing surrogate property models, execution optimization engine, post-processing pareto front necessary.the alloy designer possibility manually select starting points available use latin hypercube sampling optimal selection starting points.case optimization direct usage objective functions without surrogate models, pareto front direct result post-processing well multiple optimization runs skipped.if surrogate models applied optimization run, post-processing pareto front necessary.erbo/ 15, however, shows also much lower solvus temperature higher tcp-phase content 950 below.the optimization tool multopt++ successfully applied revisit alloy development erbo/13 erbo/15 improved execution software structure simplified optimization procedure, since multiple criteria optimized once.[68] computed heat treatment needs experimental validation, incipient melting temperature estimation errors range 20 depending alloy composition may occur due inaccuracies material databases.the original optimization procedure consists three steps: pre-processing experimentally measured as-cast concentration fields numerical representation, optimization solution heat treatment, prediction corresponding process window.comparison microprobe measurements commercially purchased single-crystal plates simulation results chromium segregation cmsx-4 as-cast state heat treatment shown figure 7. microprobe measurements pre-processed get numerical representation chromium concentrations well accordance homogenized states experimental numerical results heat treatment reached, respectively.one approach approximate tcp-phase susceptibility application equilibrium calculations thermo-calc, mentioned section iii.\n"
     ]
    }
   ],
   "source": [
    "print(text_summary)"
   ]
  },
  {
   "cell_type": "code",
   "execution_count": 143,
   "id": "2504947f",
   "metadata": {},
   "outputs": [
    {
     "name": "stdout",
     "output_type": "stream",
     "text": [
      "6.120278043626098e-232\n"
     ]
    }
   ],
   "source": [
    "from nltk.translate.bleu_score import sentence_bleu\n",
    "actual = clean_summary\n",
    "predicted = text_summary\n",
    "\n",
    "textrank_bleu_score = sentence_bleu(actual,predicted)\n",
    "print(score)"
   ]
  },
  {
   "cell_type": "code",
   "execution_count": 144,
   "id": "91ac2f34",
   "metadata": {},
   "outputs": [
    {
     "data": {
      "text/plain": [
       "[{'rouge-1': {'r': 0.18627450980392157,\n",
       "   'p': 0.3958333333333333,\n",
       "   'f': 0.2533333289813334},\n",
       "  'rouge-2': {'r': 0.050359712230215826,\n",
       "   'p': 0.11290322580645161,\n",
       "   'f': 0.06965173702730157},\n",
       "  'rouge-l': {'r': 0.16666666666666666,\n",
       "   'p': 0.3541666666666667,\n",
       "   'f': 0.2266666623146667}}]"
      ]
     },
     "execution_count": 144,
     "metadata": {},
     "output_type": "execute_result"
    }
   ],
   "source": [
    "ROUGE.get_scores(actual,predicted)"
   ]
  },
  {
   "cell_type": "code",
   "execution_count": 145,
   "id": "a045c294",
   "metadata": {},
   "outputs": [],
   "source": [
    "textrank_rouge_score = 25.3"
   ]
  },
  {
   "cell_type": "markdown",
   "id": "cea5e660",
   "metadata": {},
   "source": [
    "# LexRankSummarizer"
   ]
  },
  {
   "cell_type": "code",
   "execution_count": 146,
   "id": "c13e2156",
   "metadata": {},
   "outputs": [],
   "source": [
    "summarizer_lex = LexRankSummarizer()"
   ]
  },
  {
   "cell_type": "code",
   "execution_count": 147,
   "id": "5b4a1b3f",
   "metadata": {},
   "outputs": [],
   "source": [
    "lex_summary=\"\"\n",
    "for sentence in summary:\n",
    "    lex_summary+=str(sentence)  \n",
    "print(lex_summary)"
   ]
  },
  {
   "cell_type": "code",
   "execution_count": 148,
   "id": "3fe0ad31",
   "metadata": {},
   "outputs": [
    {
     "name": "stdout",
     "output_type": "stream",
     "text": [
      "instead single alloy composition satisfies multiple optimization criteria multi-component design-space, exist number alloy compositions representing pareto front.[14] however, coupling genetic algorithm additional, computationally expensive models, prevent optimization within large n-dimensional design-space.work, numerical multi-criteria optimization tool multopt++ using genetic search algorithm, calphad calculations, semi-empirical well surrogate models alloy development presented.thermodynamic equilibrium material properties provided calphad method.however, optimization ni-base superalloys demands multiple optimization goals, e.g., maximizing solid solution strengthening index minimizing density.also possible apply different optimization algorithms improve calculation effort result accuracy.case optimization direct usage objective functions without surrogate models, pareto front direct result post-processing well multiple optimization runs skipped.if surrogate models applied optimization run, post-processing pareto front necessary.rhenium solid solution strengthener replaced refractory elements like tungsten molybdenum.second isoline 0.2 pct lattice misfit shows pareto front optimization constraints.optimization goals minimum density, similar creep resistivity cmsx-4, rhenium-free alloy composition.therefore, focus within section approach introduce surrogate model phase stability.structural stability formation energy phases found material library analyzed dft calculations.[68] resuming segregation profile heat treatment finally applied phase-field simulations predict microstructural evolution c/c0 considering influence multi-component diffusion nucleation growth tcp-phases.final results simulation concentration fields elements alloy composition optimal heat treatment.aspects combined phase-field simulations[82,91,92] applied tcp-phase precipitation ni-base superalloys.due high computational effort, possible include whole tcp-phase precipitation simulation chain optimization routine design complex ni-base superalloys.\n"
     ]
    }
   ],
   "source": [
    "lex_summary=\"\"\n",
    "for sentence in summary:\n",
    "    lex_summary+=str(sentence)  \n",
    "print(lex_summary)"
   ]
  },
  {
   "cell_type": "code",
   "execution_count": 149,
   "id": "1708abd1",
   "metadata": {},
   "outputs": [
    {
     "name": "stdout",
     "output_type": "stream",
     "text": [
      "6.120278043626098e-232\n"
     ]
    }
   ],
   "source": [
    "from nltk.translate.bleu_score import sentence_bleu\n",
    "actual = clean_summary\n",
    "predicted = lex_summary\n",
    "\n",
    "lexrank_bleu_score = sentence_bleu(actual,predicted)\n",
    "print(score)"
   ]
  },
  {
   "cell_type": "code",
   "execution_count": 150,
   "id": "bd2546ea",
   "metadata": {},
   "outputs": [
    {
     "data": {
      "text/plain": [
       "[{'rouge-1': {'r': 0.24561403508771928, 'p': 0.4375, 'f': 0.31460673696755465},\n",
       "  'rouge-2': {'r': 0.07009345794392523,\n",
       "   'p': 0.12096774193548387,\n",
       "   'f': 0.08875739180420877},\n",
       "  'rouge-l': {'r': 0.24561403508771928,\n",
       "   'p': 0.4375,\n",
       "   'f': 0.31460673696755465}}]"
      ]
     },
     "execution_count": 150,
     "metadata": {},
     "output_type": "execute_result"
    }
   ],
   "source": [
    "ROUGE.get_scores(actual,predicted)"
   ]
  },
  {
   "cell_type": "code",
   "execution_count": 151,
   "id": "07ec07d2",
   "metadata": {},
   "outputs": [],
   "source": [
    "lexrank_rouge_score = 31.4"
   ]
  },
  {
   "cell_type": "markdown",
   "id": "3c739348",
   "metadata": {},
   "source": [
    "# LunhSummarizer"
   ]
  },
  {
   "cell_type": "code",
   "execution_count": 152,
   "id": "cd9fc64e",
   "metadata": {},
   "outputs": [],
   "source": [
    "from sumy.summarizers.luhn import LuhnSummarizer"
   ]
  },
  {
   "cell_type": "code",
   "execution_count": 153,
   "id": "e1c71f9e",
   "metadata": {},
   "outputs": [],
   "source": [
    "luhn = LuhnSummarizer()\n",
    "luhn_summary = luhn(parser.document,sentences_count = 8)"
   ]
  },
  {
   "cell_type": "code",
   "execution_count": 154,
   "id": "21f0678a",
   "metadata": {},
   "outputs": [
    {
     "name": "stdout",
     "output_type": "stream",
     "text": [
      "[20â€“22] since described optimization procedure apply phase stability ni-base superalloys, present possible route develop surrogate model integration optimization procedure.the numerical approach simulation-assisted alloy development based multi-criteria, multi-start optimization model using sequential quadratic programming described earlier.\n",
      "simplified schematic representation multi-criteria optimization tool finding pareto front shown figure 1.it mainly consists four steps: selection appropriate starting points design-space, pre-processing surrogate property models, execution optimization engine, post-processing pareto front necessary.the alloy designer possibility manually select starting points available use latin hypercube sampling optimal selection starting points.\n",
      "case optimization direct usage objective functions without surrogate models, pareto front direct result post-processing well multiple optimization runs skipped.if surrogate models applied optimization run, post-processing pareto front necessary.\n",
      "erbo/ 15, however, shows also much lower solvus temperature higher tcp-phase content 950 below.the optimization tool multopt++ successfully applied revisit alloy development erbo/13 erbo/15 improved execution software structure simplified optimization procedure, since multiple criteria optimized once.\n",
      "following, concept crossdisciplinary material database improvement explained general workflow schematic figure 3. starting point external input existing databases calculations input instance interesting, yet unknown wellknown ternary system composition range tcp-phases expected.\n",
      "[68] computed heat treatment needs experimental validation, incipient melting temperature estimation errors range 20 depending alloy composition may occur due inaccuracies material databases.the original optimization procedure consists three steps: pre-processing experimentally measured as-cast concentration fields numerical representation, optimization solution heat treatment, prediction corresponding process window.\n",
      "comparison microprobe measurements commercially purchased single-crystal plates simulation results chromium segregation cmsx-4 as-cast state heat treatment shown figure 7. microprobe measurements pre-processed get numerical representation chromium concentrations well accordance homogenized states experimental numerical results heat treatment reached, respectively.one approach approximate tcp-phase susceptibility application equilibrium calculations thermo-calc, mentioned section iii.\n",
      "current approach development regression-based model bases johnsonâ€“mehlâ€“avrami equation[93] time-dependent transformation nuclei fvã°t; c; tãž â¼ eq ã°c; tãž exp kã°c; tãž nã°c;tãž fvã°t; c; tãž time-dependent fraction sum tcp-phases eq ã°c; tãž tcp-phase amount provided thermodynamic equilibrium calphad calculations.\n"
     ]
    }
   ],
   "source": [
    "for sentence in luhn_summary:\n",
    "    print(sentence)"
   ]
  },
  {
   "cell_type": "code",
   "execution_count": 155,
   "id": "77e92b7a",
   "metadata": {},
   "outputs": [],
   "source": [
    "luhn_summary = 'since described optimization procedure apply phase stability ni-base superalloys, present possible route develop surrogate model integration optimization procedure.the numerical approach simulation-assisted alloy development based multi-criteria, multi-start optimization model using sequential quadratic programming described earlier.simplified schematic representation multi-criteria optimization tool finding pareto front shown figure 1.it mainly consists four steps: selection appropriate starting points design-space, pre-processing surrogate property models, execution optimization engine, post-processing pareto front necessary.the alloy designer possibility manually select starting points available use latin hypercube sampling optimal selection starting points.case optimization direct usage objective functions without surrogate models, pareto front direct result post-processing well multiple optimization runs skipped.if surrogate models applied optimization run, post-processing pareto front necessary.erbo/ 15, however, shows also much lower solvus temperature higher tcp-phase content 950 below.the optimization tool multopt++ successfully applied revisit alloy development erbo/13 erbo/15 improved execution software structure simplified optimization procedure, since multiple criteria optimized once.following, concept crossdisciplinary material database improvement explained general workflow schematic figure 3. starting point external input existing databases calculations input instance interesting, yet unknown wellknown ternary system composition range tcp-phases expected.computed heat treatment needs experimental validation, incipient melting temperature estimation errors range 20 depending alloy composition may occur due inaccuracies material databases.the original optimization procedure consists three steps: pre-processing experimentally measured as-cast concentration fields numerical representation, optimization solution heat treatment, prediction corresponding process window.comparison microprobe measurements commercially purchased single-crystal plates simulation results chromium segregation cmsx-4 as-cast state heat treatment shown figure 7. microprobe measurements pre-processed get numerical representation chromium concentrations well accordance homogenized states experimental numerical results heat treatment reached, respectively.one approach approximate tcp-phase susceptibility application equilibrium calculations thermo-calc, mentioned section iii.current approach development regression-based model bases johnsonâ€“mehlâ€“avrami equation[93] time-dependent transformation nuclei fvã°t; c; tãž â¼ eq ã°c; tãž exp kã°c; tãž nã°c;tãž fvã°t; c; tãž time-dependent fraction sum tcp-phases eq ã°c; tãž tcp-phase amount provided thermodynamic equilibrium calphad calculations.'"
   ]
  },
  {
   "cell_type": "code",
   "execution_count": 156,
   "id": "12814966",
   "metadata": {},
   "outputs": [
    {
     "name": "stdout",
     "output_type": "stream",
     "text": [
      "6.120278043626098e-232\n"
     ]
    }
   ],
   "source": [
    "from nltk.translate.bleu_score import sentence_bleu\n",
    "actual = clean_summary\n",
    "predicted = luhn_summary\n",
    "\n",
    "lunh_bleu_score = sentence_bleu(actual,predicted)\n",
    "print(score)"
   ]
  },
  {
   "cell_type": "code",
   "execution_count": 157,
   "id": "31d5e781",
   "metadata": {},
   "outputs": [
    {
     "data": {
      "text/plain": [
       "[{'rouge-1': {'r': 0.17272727272727273,\n",
       "   'p': 0.3958333333333333,\n",
       "   'f': 0.24050632488383278},\n",
       "  'rouge-2': {'r': 0.0472972972972973,\n",
       "   'p': 0.11290322580645161,\n",
       "   'f': 0.06666666250521569},\n",
       "  'rouge-l': {'r': 0.15454545454545454,\n",
       "   'p': 0.3541666666666667,\n",
       "   'f': 0.21518986918763022}}]"
      ]
     },
     "execution_count": 157,
     "metadata": {},
     "output_type": "execute_result"
    }
   ],
   "source": [
    "ROUGE.get_scores(actual,predicted)"
   ]
  },
  {
   "cell_type": "code",
   "execution_count": 158,
   "id": "eb9c1605",
   "metadata": {},
   "outputs": [],
   "source": [
    "luhn_rogue_score = 24"
   ]
  },
  {
   "cell_type": "markdown",
   "id": "575bf640",
   "metadata": {},
   "source": [
    "# LsaSummarizer"
   ]
  },
  {
   "cell_type": "code",
   "execution_count": 159,
   "id": "1989961b",
   "metadata": {},
   "outputs": [],
   "source": [
    "from sumy.summarizers.lsa import LsaSummarizer\n",
    "summarizer_lsa = LsaSummarizer()"
   ]
  },
  {
   "cell_type": "code",
   "execution_count": 160,
   "id": "377a0142",
   "metadata": {},
   "outputs": [
    {
     "name": "stdout",
     "output_type": "stream",
     "text": [
      "one example combinatorial brute-force algorithm scanning large design-spaces using model characteristics like creep resistance, microstructural stability, castability, density, cost.[9,12,13] li et al. proposed computational framework combining genetic algorithms, calphad computations, mechanistic material models optimize alloy composition within ternary system ni-al-cr.optionally, step combined one probabilistic search algorithms benefit multi-point start already pareto optimal random-selected individuals results fewer steps higher computational effort.choosing index cmsx-4, optimal composition erbo/15 minimum density 8300 kg/m3 found.in order verify predictions, erbo/13 well erbo/15 prepared form small buttons arc melting subsequently analyzed regarding physical properties creep performance.results demonstrate suitability cmdi approach advantageously modify material databases.second higher generation ni-base superalloys highly alloyed refractory elements like tungsten, molybdenum, rhenium, ruthenium, respectively, obtain excellent solid solution strengthening creep properties.[68] resuming segregation profile heat treatment finally applied phase-field simulations predict microstructural evolution c/c0 considering influence multi-component diffusion nucleation growth tcp-phases.[69] compared well-known liquid-metal cooling process,[70â€“72] fcbc applies inert gas fluidized bed glassy carbon beads instead bath molten tin carry buoyant layer freely movable insulation particles.comparison microprobe measurements commercially purchased single-crystal plates simulation results chromium segregation cmsx-4 as-cast state heat treatment shown figure 7. microprobe measurements pre-processed get numerical representation chromium concentrations well accordance homogenized states experimental numerical results heat treatment reached, respectively.one approach approximate tcp-phase susceptibility application equilibrium calculations thermo-calc, mentioned section iii.\n"
     ]
    }
   ],
   "source": [
    "summary =summarizer_lsa(parser.document,8)\n",
    "lsa_summary=\"\"\n",
    "for sentence in summary:\n",
    "    lsa_summary+=str(sentence)  \n",
    "print(lsa_summary)"
   ]
  },
  {
   "cell_type": "code",
   "execution_count": 161,
   "id": "00b2ba7d",
   "metadata": {},
   "outputs": [
    {
     "name": "stdout",
     "output_type": "stream",
     "text": [
      "6.120278043626098e-232\n"
     ]
    }
   ],
   "source": [
    "from nltk.translate.bleu_score import sentence_bleu\n",
    "actual = clean_summary\n",
    "predicted = lsa_summary\n",
    "\n",
    "lsa_bleu_score = sentence_bleu(actual,predicted)\n",
    "print(score)"
   ]
  },
  {
   "cell_type": "code",
   "execution_count": 162,
   "id": "4d77b1de",
   "metadata": {},
   "outputs": [
    {
     "data": {
      "text/plain": [
       "[{'rouge-1': {'r': 0.13917525773195877,\n",
       "   'p': 0.28125,\n",
       "   'f': 0.18620689212271116},\n",
       "  'rouge-2': {'r': 0.004608294930875576,\n",
       "   'p': 0.008064516129032258,\n",
       "   'f': 0.005865098011200665},\n",
       "  'rouge-l': {'r': 0.13402061855670103,\n",
       "   'p': 0.2708333333333333,\n",
       "   'f': 0.17931034039857321}}]"
      ]
     },
     "execution_count": 162,
     "metadata": {},
     "output_type": "execute_result"
    }
   ],
   "source": [
    "ROUGE.get_scores(actual,predicted)"
   ]
  },
  {
   "cell_type": "code",
   "execution_count": 163,
   "id": "63ca6097",
   "metadata": {},
   "outputs": [],
   "source": [
    "lsa_rogue_score =18.6"
   ]
  },
  {
   "cell_type": "markdown",
   "id": "4c760626",
   "metadata": {},
   "source": [
    "# KLSummarizer"
   ]
  },
  {
   "cell_type": "code",
   "execution_count": 164,
   "id": "92d995bf",
   "metadata": {},
   "outputs": [
    {
     "name": "stdout",
     "output_type": "stream",
     "text": [
      "work, numerical multi-criteria optimization tool multopt++ using genetic search algorithm, calphad calculations, semi-empirical well surrogate models alloy development presented.thermodynamic equilibrium material properties provided calphad method.case optimization direct usage objective functions without surrogate models, pareto front direct result post-processing well multiple optimization runs skipped.if surrogate models applied optimization run, post-processing pareto front necessary.density, solid solution strengthening index, lattice misfit optimum composition erbo/13 reference cmsx-4 shown figure 2. calculations performed using multopt++.erbo/ 15, however, shows also much lower solvus temperature higher tcp-phase content 950 below.the optimization tool multopt++ successfully applied revisit alloy development erbo/13 erbo/15 improved execution software structure simplified optimization procedure, since multiple criteria optimized once.solidification simulation phase-field simulation initialized primary dendrite arm spacing alloy composition.[68] computed heat treatment needs experimental validation, incipient melting temperature estimation errors range 20 depending alloy composition may occur due inaccuracies material databases.the original optimization procedure consists three steps: pre-processing experimentally measured as-cast concentration fields numerical representation, optimization solution heat treatment, prediction corresponding process window.aspects combined phase-field simulations[82,91,92] applied tcp-phase precipitation ni-base superalloys.due high computational effort, possible include whole tcp-phase precipitation simulation chain optimization routine design complex ni-base superalloys.\n"
     ]
    }
   ],
   "source": [
    "from sumy.summarizers.kl import KLSummarizer\n",
    "summarizer_kl = KLSummarizer()# Summarize using sumy KL Divergence\n",
    "summary = summarizer_kl(parser.document,8)\n",
    "kl_summary=\"\"\n",
    "for sentence in summary:\n",
    "    kl_summary+=str(sentence)  \n",
    "print(kl_summary)"
   ]
  },
  {
   "cell_type": "code",
   "execution_count": 165,
   "id": "cb5c36b3",
   "metadata": {},
   "outputs": [
    {
     "name": "stdout",
     "output_type": "stream",
     "text": [
      "6.120278043626098e-232\n"
     ]
    }
   ],
   "source": [
    "from nltk.translate.bleu_score import sentence_bleu\n",
    "actual = clean_summary\n",
    "predicted = kl_summary\n",
    "\n",
    "KL_bleu_score = sentence_bleu(actual,predicted)\n",
    "print(score)"
   ]
  },
  {
   "cell_type": "code",
   "execution_count": 166,
   "id": "af97b1e0",
   "metadata": {},
   "outputs": [
    {
     "data": {
      "text/plain": [
       "[{'rouge-1': {'r': 0.22297297297297297,\n",
       "   'p': 0.34375,\n",
       "   'f': 0.27049179850577804},\n",
       "  'rouge-2': {'r': 0.07567567567567568,\n",
       "   'p': 0.11290322580645161,\n",
       "   'f': 0.09061488192624736},\n",
       "  'rouge-l': {'r': 0.21621621621621623,\n",
       "   'p': 0.3333333333333333,\n",
       "   'f': 0.2622950771943027}}]"
      ]
     },
     "execution_count": 166,
     "metadata": {},
     "output_type": "execute_result"
    }
   ],
   "source": [
    "ROUGE.get_scores(actual,predicted)"
   ]
  },
  {
   "cell_type": "code",
   "execution_count": 167,
   "id": "0e134813",
   "metadata": {},
   "outputs": [],
   "source": [
    "KL_rogue_score = 27"
   ]
  },
  {
   "cell_type": "code",
   "execution_count": 168,
   "id": "1927080d",
   "metadata": {},
   "outputs": [
    {
     "data": {
      "text/html": [
       "<div>\n",
       "<style scoped>\n",
       "    .dataframe tbody tr th:only-of-type {\n",
       "        vertical-align: middle;\n",
       "    }\n",
       "\n",
       "    .dataframe tbody tr th {\n",
       "        vertical-align: top;\n",
       "    }\n",
       "\n",
       "    .dataframe thead th {\n",
       "        text-align: right;\n",
       "    }\n",
       "</style>\n",
       "<table border=\"1\" class=\"dataframe\">\n",
       "  <thead>\n",
       "    <tr style=\"text-align: right;\">\n",
       "      <th></th>\n",
       "      <th>Models</th>\n",
       "      <th>Bleu_score</th>\n",
       "      <th>Rogue_score</th>\n",
       "    </tr>\n",
       "  </thead>\n",
       "  <tbody>\n",
       "    <tr>\n",
       "      <th>0</th>\n",
       "      <td>Jaro_winkler</td>\n",
       "      <td>6.160845e-232</td>\n",
       "      <td>24.0</td>\n",
       "    </tr>\n",
       "    <tr>\n",
       "      <th>1</th>\n",
       "      <td>TextRank</td>\n",
       "      <td>6.120278e-232</td>\n",
       "      <td>25.3</td>\n",
       "    </tr>\n",
       "    <tr>\n",
       "      <th>2</th>\n",
       "      <td>LexRank</td>\n",
       "      <td>6.435657e-232</td>\n",
       "      <td>31.4</td>\n",
       "    </tr>\n",
       "    <tr>\n",
       "      <th>3</th>\n",
       "      <td>Lunh</td>\n",
       "      <td>6.079217e-232</td>\n",
       "      <td>24.0</td>\n",
       "    </tr>\n",
       "    <tr>\n",
       "      <th>4</th>\n",
       "      <td>Lsa</td>\n",
       "      <td>6.538500e-232</td>\n",
       "      <td>18.6</td>\n",
       "    </tr>\n",
       "    <tr>\n",
       "      <th>5</th>\n",
       "      <td>KL</td>\n",
       "      <td>6.862983e-232</td>\n",
       "      <td>27.0</td>\n",
       "    </tr>\n",
       "  </tbody>\n",
       "</table>\n",
       "</div>"
      ],
      "text/plain": [
       "         Models     Bleu_score  Rogue_score\n",
       "0  Jaro_winkler  6.160845e-232         24.0\n",
       "1      TextRank  6.120278e-232         25.3\n",
       "2       LexRank  6.435657e-232         31.4\n",
       "3          Lunh  6.079217e-232         24.0\n",
       "4           Lsa  6.538500e-232         18.6\n",
       "5            KL  6.862983e-232         27.0"
      ]
     },
     "execution_count": 168,
     "metadata": {},
     "output_type": "execute_result"
    }
   ],
   "source": [
    "model_scores_Dict = {\n",
    "\n",
    "    'Models': ['Jaro_winkler','TextRank','LexRank','Lunh','Lsa','KL'],\n",
    "    'Bleu_score': [jaro_bleu_score,textrank_bleu_score,lexrank_bleu_score,lunh_bleu_score,lsa_bleu_score,KL_bleu_score],\n",
    "    'Rogue_score': [rouge_jaro_score,textrank_rouge_score,lexrank_rouge_score,luhn_rogue_score,lsa_rogue_score,KL_rogue_score]\n",
    "}\n",
    "\n",
    "scores_df = pd.DataFrame(model_scores_Dict)\n",
    "\n",
    "scores_df"
   ]
  }
 ],
 "metadata": {
  "hide_input": false,
  "kernelspec": {
   "display_name": "Python 3 (ipykernel)",
   "language": "python",
   "name": "python3"
  },
  "language_info": {
   "codemirror_mode": {
    "name": "ipython",
    "version": 3
   },
   "file_extension": ".py",
   "mimetype": "text/x-python",
   "name": "python",
   "nbconvert_exporter": "python",
   "pygments_lexer": "ipython3",
   "version": "3.8.12"
  },
  "latex_envs": {
   "LaTeX_envs_menu_present": true,
   "autoclose": false,
   "autocomplete": true,
   "bibliofile": "biblio.bib",
   "cite_by": "apalike",
   "current_citInitial": 1,
   "eqLabelWithNumbers": true,
   "eqNumInitial": 1,
   "hotkeys": {
    "equation": "Ctrl-E",
    "itemize": "Ctrl-I"
   },
   "labels_anchors": false,
   "latex_user_defs": false,
   "report_style_numbering": false,
   "user_envs_cfg": false
  },
  "nbTranslate": {
   "displayLangs": [
    "*"
   ],
   "hotkey": "alt-t",
   "langInMainMenu": true,
   "sourceLang": "en",
   "targetLang": "fr",
   "useGoogleTranslate": true
  },
  "toc": {
   "base_numbering": 1,
   "nav_menu": {},
   "number_sections": true,
   "sideBar": true,
   "skip_h1_title": false,
   "title_cell": "Table of Contents",
   "title_sidebar": "Contents",
   "toc_cell": false,
   "toc_position": {},
   "toc_section_display": true,
   "toc_window_display": false
  },
  "varInspector": {
   "cols": {
    "lenName": 16,
    "lenType": 16,
    "lenVar": 40
   },
   "kernels_config": {
    "python": {
     "delete_cmd_postfix": "",
     "delete_cmd_prefix": "del ",
     "library": "var_list.py",
     "varRefreshCmd": "print(var_dic_list())"
    },
    "r": {
     "delete_cmd_postfix": ") ",
     "delete_cmd_prefix": "rm(",
     "library": "var_list.r",
     "varRefreshCmd": "cat(var_dic_list()) "
    }
   },
   "types_to_exclude": [
    "module",
    "function",
    "builtin_function_or_method",
    "instance",
    "_Feature"
   ],
   "window_display": false
  }
 },
 "nbformat": 4,
 "nbformat_minor": 5
}
